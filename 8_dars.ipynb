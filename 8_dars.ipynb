{
 "cells": [
  {
   "cell_type": "code",
   "execution_count": 2,
   "id": "d0b41984",
   "metadata": {},
   "outputs": [
    {
     "name": "stdout",
     "output_type": "stream",
     "text": [
      "['audi', 'bmw', 'suziki', 'toyota']\n",
      "AUDI\n"
     ]
    }
   ],
   "source": [
    "car_brands = ['toyota', 'audi', 'bmw', 'suziki']\n",
    "car_brands.sort()\n",
    "print(car_brands)\n",
    "print(car_brands[0].upper())"
   ]
  },
  {
   "cell_type": "code",
   "execution_count": 3,
   "id": "599fc36c",
   "metadata": {},
   "outputs": [
    {
     "name": "stdout",
     "output_type": "stream",
     "text": [
      "['toyota', 'suziki', 'bmw', 'audi']\n"
     ]
    }
   ],
   "source": [
    "car_brands.sort(reverse = True)\n",
    "print(car_brands)"
   ]
  },
  {
   "cell_type": "code",
   "execution_count": 4,
   "id": "9d07a9f0",
   "metadata": {},
   "outputs": [
    {
     "name": "stdout",
     "output_type": "stream",
     "text": [
      "sorted() qaytargan ro'yxat: ['Atabek', 'Qosibay', 'Timur', 'Tursinbek']\n",
      "Asil ro'yxat o'zgarmas qoldi: ['Timur', 'Tursinbek', 'Atabek', 'Qosibay']\n"
     ]
    }
   ],
   "source": [
    "mehmonlar = ['Timur', 'Tursinbek', 'Atabek', 'Qosibay']\n",
    "print(\"sorted() qaytargan ro'yxat:\", sorted(mehmonlar))\n",
    "print(\"Asil ro'yxat o'zgarmas qoldi:\", mehmonlar)"
   ]
  },
  {
   "cell_type": "code",
   "execution_count": 5,
   "id": "9be7d4de",
   "metadata": {},
   "outputs": [
    {
     "name": "stdout",
     "output_type": "stream",
     "text": [
      "sorted() qaytargan ro'yxat: ['Tursinbek', 'Timur', 'Qosibay', 'Atabek']\n"
     ]
    }
   ],
   "source": [
    "print(\"sorted() qaytargan ro'yxat:\", sorted(mehmonlar, reverse = True))"
   ]
  },
  {
   "cell_type": "code",
   "execution_count": 7,
   "id": "92f82e1b",
   "metadata": {},
   "outputs": [
    {
     "name": "stdout",
     "output_type": "stream",
     "text": [
      "[23, 42, 43, 54, 65, 99]\n",
      "[99, 65, 54, 43, 42, 23]\n"
     ]
    }
   ],
   "source": [
    "sonlar = [99, 54, 65, 23, 42, 43]\n",
    "sonlar.sort()\n",
    "print(sonlar)\n",
    "print(sorted(sonlar, reverse = True))"
   ]
  },
  {
   "cell_type": "code",
   "execution_count": 8,
   "id": "3151d8d8",
   "metadata": {},
   "outputs": [
    {
     "name": "stdout",
     "output_type": "stream",
     "text": [
      "['pear', 'apple', 'banana', 'watermelon', 'lemon']\n",
      "['lemon', 'watermelon', 'banana', 'apple', 'pear']\n"
     ]
    }
   ],
   "source": [
    "fruits = ['pear', 'apple', 'banana', 'watermelon', 'lemon']\n",
    "print(fruits)\n",
    "fruits.reverse()\n",
    "print(fruits)"
   ]
  },
  {
   "cell_type": "code",
   "execution_count": 9,
   "id": "3c4fa9fa",
   "metadata": {},
   "outputs": [
    {
     "name": "stdout",
     "output_type": "stream",
     "text": [
      "Elementler soni: 5\n"
     ]
    }
   ],
   "source": [
    "print(\"Elementler soni:\", len(fruits))"
   ]
  },
  {
   "cell_type": "code",
   "execution_count": 10,
   "id": "9db7b05c",
   "metadata": {},
   "outputs": [
    {
     "name": "stdout",
     "output_type": "stream",
     "text": [
      "[0, 1, 2, 3, 4, 5, 6, 7, 8, 9]\n"
     ]
    }
   ],
   "source": [
    "sanlar = list(range(0,10))\n",
    "print(sanlar)"
   ]
  },
  {
   "cell_type": "code",
   "execution_count": 12,
   "id": "0df77afe",
   "metadata": {},
   "outputs": [
    {
     "name": "stdout",
     "output_type": "stream",
     "text": [
      "Juft sonlar [0, 2, 4, 6, 8, 10, 12, 14, 16, 18]\n",
      "Toq sonlar: [1, 3, 5, 7, 9, 11, 13, 15, 17, 19]\n"
     ]
    }
   ],
   "source": [
    "juft_sonlar = list(range(0, 20, 2))\n",
    "toq_sonlar = list(range(1, 20, 2))\n",
    "print(\"Juft sonlar\", juft_sonlar)\n",
    "print(\"Toq sonlar:\", toq_sonlar)"
   ]
  },
  {
   "cell_type": "code",
   "execution_count": 13,
   "id": "f78efafe",
   "metadata": {},
   "outputs": [
    {
     "name": "stdout",
     "output_type": "stream",
     "text": [
      "En arzon narx 12000, eng qimmat narx 65000. Jame: 124200\n"
     ]
    }
   ],
   "source": [
    "narxlar = [13000, 12000, 65000, 34200]\n",
    "arzon = min(narxlar)\n",
    "qimmat = max(narxlar)\n",
    "jami = sum(narxlar)\n",
    "print(f\"En arzon narx {arzon}, eng qimmat narx {qimmat}. Jame: {jami}\")"
   ]
  },
  {
   "cell_type": "code",
   "execution_count": 14,
   "id": "cab751cd",
   "metadata": {},
   "outputs": [
    {
     "name": "stdout",
     "output_type": "stream",
     "text": [
      "['mers', 'bmw', 'vw']\n"
     ]
    }
   ],
   "source": [
    "cars = ['mers', 'bmw', 'vw', 'gm', 'toyota', 'kia', 'rr', 'suziki', 'honda']\n",
    "my_cars = cars[0 : 3]\n",
    "print(my_cars)"
   ]
  },
  {
   "cell_type": "code",
   "execution_count": 15,
   "id": "ed7641a1",
   "metadata": {},
   "outputs": [
    {
     "name": "stdout",
     "output_type": "stream",
     "text": [
      "['vw', 'gm']\n"
     ]
    }
   ],
   "source": [
    "print(cars[2:4])"
   ]
  },
  {
   "cell_type": "code",
   "execution_count": 16,
   "id": "f3e91367",
   "metadata": {},
   "outputs": [
    {
     "name": "stdout",
     "output_type": "stream",
     "text": [
      "['mers', 'bmw']\n"
     ]
    }
   ],
   "source": [
    "print(cars[:2])"
   ]
  },
  {
   "cell_type": "code",
   "execution_count": 17,
   "id": "7e332c24",
   "metadata": {},
   "outputs": [
    {
     "name": "stdout",
     "output_type": "stream",
     "text": [
      "['gm', 'toyota', 'kia', 'rr', 'suziki', 'honda']\n"
     ]
    }
   ],
   "source": [
    "print(cars[3:])"
   ]
  },
  {
   "cell_type": "code",
   "execution_count": 19,
   "id": "386b9f2f",
   "metadata": {},
   "outputs": [
    {
     "name": "stdout",
     "output_type": "stream",
     "text": [
      "Bu SONLAR ro'yxati: [1, 4, 2, 3, 5, 9, 6, 7]\n",
      "Bu SONLAR2 ro'yxati: [1, 4, 2, 3, 5, 9, 6, 7, 8]\n"
     ]
    }
   ],
   "source": [
    "sonlar = [1, 4, 2, 3, 5, 9, 6, 7]\n",
    "sonlar2 = sonlar[:]\n",
    "sonlar2.append(8)\n",
    "print(\"Bu SONLAR ro'yxati:\", sonlar)\n",
    "print(\"Bu SONLAR2 ro'yxati:\", sonlar2)"
   ]
  },
  {
   "cell_type": "code",
   "execution_count": 20,
   "id": "de8d09d0",
   "metadata": {},
   "outputs": [
    {
     "name": "stdout",
     "output_type": "stream",
     "text": [
      "(20, 30, 55.2)\n"
     ]
    }
   ],
   "source": [
    "# tuples - o'zgarmas ro'yxatlar\n",
    "tomonlar = (20, 30, 55.2)\n",
    "print(tomonlar)"
   ]
  },
  {
   "cell_type": "code",
   "execution_count": 21,
   "id": "acb641b9",
   "metadata": {},
   "outputs": [
    {
     "name": "stdout",
     "output_type": "stream",
     "text": [
      "55.2\n"
     ]
    }
   ],
   "source": [
    "print(tomonlar[-1])"
   ]
  },
  {
   "cell_type": "code",
   "execution_count": 22,
   "id": "b52617d2",
   "metadata": {},
   "outputs": [
    {
     "name": "stdout",
     "output_type": "stream",
     "text": [
      "20\n",
      "55.2\n"
     ]
    }
   ],
   "source": [
    "print(tomonlar[0])\n",
    "print(tomonlar[2])"
   ]
  },
  {
   "cell_type": "code",
   "execution_count": 23,
   "id": "cd5a1c6c",
   "metadata": {},
   "outputs": [
    {
     "ename": "TypeError",
     "evalue": "'tuple' object does not support item assignment",
     "output_type": "error",
     "traceback": [
      "\u001b[0;31m---------------------------------------------------------------------------\u001b[0m",
      "\u001b[0;31mTypeError\u001b[0m                                 Traceback (most recent call last)",
      "Cell \u001b[0;32mIn[23], line 1\u001b[0m\n\u001b[0;32m----> 1\u001b[0m \u001b[43mtomonlar\u001b[49m\u001b[43m[\u001b[49m\u001b[38;5;241;43m2\u001b[39;49m\u001b[43m]\u001b[49m \u001b[38;5;241m=\u001b[39m \u001b[38;5;241m1\u001b[39m\n\u001b[1;32m      2\u001b[0m \u001b[38;5;28mprint\u001b[39m(tomonlar)\n",
      "\u001b[0;31mTypeError\u001b[0m: 'tuple' object does not support item assignment"
     ]
    }
   ],
   "source": [
    "tomonlar[2] = 1\n",
    "print(tomonlar)"
   ]
  },
  {
   "cell_type": "code",
   "execution_count": 24,
   "id": "acc9ff3c",
   "metadata": {},
   "outputs": [
    {
     "name": "stdout",
     "output_type": "stream",
     "text": [
      "<class 'tuple'>\n"
     ]
    }
   ],
   "source": [
    "print(type(tomonlar))"
   ]
  },
  {
   "cell_type": "code",
   "execution_count": null,
   "id": "9f191688",
   "metadata": {},
   "outputs": [],
   "source": [
    "toys = ('bus','car','bear','dino','snake','lizard') # o'zgarmas ro'yxat\n",
    "toys = list(toys) # o'zgarmas ro'yxatni oddiy ro'yxatga (List) aylantiramiz\n",
    "# Ro'yxatga o'zgartirishlar kiritamiz\n",
    "toys.append('dragon')\n",
    "toys.remove('bus')\n",
    "toys[1] = 'mcqueen'\n",
    "toys = tuple(toys) # Ro'yxatni qaytadan o'zgarmas ro'yxatga (Tuple) aylantiramiz\n",
    "print(toys)\n"
   ]
  },
  {
   "cell_type": "code",
   "execution_count": 25,
   "id": "b9f57214",
   "metadata": {},
   "outputs": [
    {
     "name": "stdout",
     "output_type": "stream",
     "text": [
      "['Qaraqalpaqstan', 'Ozbekistan', 'Qazaqstan', 'Turkmenstan', 'Qirgizstan']\n"
     ]
    }
   ],
   "source": [
    "mamleketler = ['Qaraqalpaqstan', 'Ozbekistan', 'Qazaqstan', 'Turkmenstan', 'Qirgizstan']\n",
    "print(mamleketler)"
   ]
  },
  {
   "cell_type": "code",
   "execution_count": 26,
   "id": "fdfcd8bd",
   "metadata": {},
   "outputs": [
    {
     "name": "stdout",
     "output_type": "stream",
     "text": [
      "5\n"
     ]
    }
   ],
   "source": [
    "print(len(mamleketler))"
   ]
  },
  {
   "cell_type": "code",
   "execution_count": 27,
   "id": "5a837b9e",
   "metadata": {},
   "outputs": [
    {
     "name": "stdout",
     "output_type": "stream",
     "text": [
      "['Ozbekistan', 'Qaraqalpaqstan', 'Qazaqstan', 'Qirgizstan', 'Turkmenstan']\n"
     ]
    }
   ],
   "source": [
    "print(sorted(mamleketler))"
   ]
  },
  {
   "cell_type": "code",
   "execution_count": 28,
   "id": "99ae1b9d",
   "metadata": {},
   "outputs": [
    {
     "name": "stdout",
     "output_type": "stream",
     "text": [
      "['Turkmenstan', 'Qirgizstan', 'Qazaqstan', 'Qaraqalpaqstan', 'Ozbekistan']\n"
     ]
    }
   ],
   "source": [
    "print(sorted(mamleketler, reverse = True))"
   ]
  },
  {
   "cell_type": "code",
   "execution_count": 29,
   "id": "8ee88a45",
   "metadata": {},
   "outputs": [
    {
     "name": "stdout",
     "output_type": "stream",
     "text": [
      "['Ozbekistan', 'Qaraqalpaqstan', 'Qazaqstan', 'Qirgizstan', 'Turkmenstan']\n"
     ]
    }
   ],
   "source": [
    "mamleketler.sort()\n",
    "print(mamleketler)"
   ]
  },
  {
   "cell_type": "code",
   "execution_count": 30,
   "id": "9fd3b6cc",
   "metadata": {},
   "outputs": [
    {
     "name": "stdout",
     "output_type": "stream",
     "text": [
      "['Turkmenstan', 'Qirgizstan', 'Qazaqstan', 'Qaraqalpaqstan', 'Ozbekistan']\n"
     ]
    }
   ],
   "source": [
    "mamleketler.sort(reverse = True)\n",
    "print(mamleketler)"
   ]
  },
  {
   "cell_type": "code",
   "execution_count": 31,
   "id": "2f3a26a7",
   "metadata": {},
   "outputs": [
    {
     "name": "stdout",
     "output_type": "stream",
     "text": [
      "[120, 122, 124, 126, 128, 130, 132, 134, 136, 138, 140, 142, 144, 146, 148, 150, 152, 154, 156, 158, 160, 162, 164, 166, 168, 170, 172, 174, 176, 178, 180, 182, 184, 186, 188, 190, 192, 194, 196, 198, 200, 202, 204, 206, 208, 210, 212, 214, 216, 218, 220, 222, 224, 226, 228, 230, 232, 234, 236, 238, 240, 242, 244, 246, 248, 250, 252, 254, 256, 258, 260, 262, 264, 266, 268, 270, 272, 274, 276, 278, 280, 282, 284, 286, 288, 290, 292, 294, 296, 298, 300, 302, 304, 306, 308, 310, 312, 314, 316, 318, 320, 322, 324, 326, 328, 330, 332, 334, 336, 338, 340, 342, 344, 346, 348, 350, 352, 354, 356, 358, 360, 362, 364, 366, 368, 370, 372, 374, 376, 378, 380, 382, 384, 386, 388, 390, 392, 394, 396, 398, 400, 402, 404, 406, 408, 410, 412, 414, 416, 418, 420, 422, 424, 426, 428, 430, 432, 434, 436, 438, 440, 442, 444, 446, 448, 450, 452, 454, 456, 458, 460, 462, 464, 466, 468, 470, 472, 474, 476, 478, 480, 482, 484, 486, 488, 490, 492, 494, 496, 498, 500, 502, 504, 506, 508, 510, 512, 514, 516, 518, 520, 522, 524, 526, 528, 530, 532, 534, 536, 538, 540, 542, 544, 546, 548, 550, 552, 554, 556, 558, 560, 562, 564, 566, 568, 570, 572, 574, 576, 578, 580, 582, 584, 586, 588, 590, 592, 594, 596, 598, 600, 602, 604, 606, 608, 610, 612, 614, 616, 618, 620, 622, 624, 626, 628, 630, 632, 634, 636, 638, 640, 642, 644, 646, 648, 650, 652, 654, 656, 658, 660, 662, 664, 666, 668, 670, 672, 674, 676, 678, 680, 682, 684, 686, 688, 690, 692, 694, 696, 698, 700, 702, 704, 706, 708, 710, 712, 714, 716, 718, 720, 722, 724, 726, 728, 730, 732, 734, 736, 738, 740, 742, 744, 746, 748, 750, 752, 754, 756, 758, 760, 762, 764, 766, 768, 770, 772, 774, 776, 778, 780, 782, 784, 786, 788, 790, 792, 794, 796, 798, 800, 802, 804, 806, 808, 810, 812, 814, 816, 818, 820, 822, 824, 826, 828, 830, 832, 834, 836, 838, 840, 842, 844, 846, 848, 850, 852, 854, 856, 858, 860, 862, 864, 866, 868, 870, 872, 874, 876, 878, 880, 882, 884, 886, 888, 890, 892, 894, 896, 898, 900, 902, 904, 906, 908, 910, 912, 914, 916, 918, 920, 922, 924, 926, 928, 930, 932, 934, 936, 938, 940, 942, 944, 946, 948, 950, 952, 954, 956, 958, 960, 962, 964, 966, 968, 970, 972, 974, 976, 978, 980, 982, 984, 986, 988, 990, 992, 994, 996, 998, 1000, 1002, 1004, 1006, 1008, 1010, 1012, 1014, 1016, 1018, 1020, 1022, 1024, 1026, 1028, 1030, 1032, 1034, 1036, 1038, 1040, 1042, 1044, 1046, 1048, 1050, 1052, 1054, 1056, 1058, 1060, 1062, 1064, 1066, 1068, 1070, 1072, 1074, 1076, 1078, 1080, 1082, 1084, 1086, 1088, 1090, 1092, 1094, 1096, 1098, 1100, 1102, 1104, 1106, 1108, 1110, 1112, 1114, 1116, 1118, 1120, 1122, 1124, 1126, 1128, 1130, 1132, 1134, 1136, 1138, 1140, 1142, 1144, 1146, 1148, 1150, 1152, 1154, 1156, 1158, 1160, 1162, 1164, 1166, 1168, 1170, 1172, 1174, 1176, 1178, 1180, 1182, 1184, 1186, 1188, 1190, 1192, 1194, 1196, 1198]\n"
     ]
    }
   ],
   "source": [
    "sanlar = list(range(120, 1200, 2))\n",
    "print(sanlar)"
   ]
  },
  {
   "cell_type": "code",
   "execution_count": 32,
   "id": "4ff8b977",
   "metadata": {},
   "outputs": [
    {
     "name": "stdout",
     "output_type": "stream",
     "text": [
      "355860\n"
     ]
    }
   ],
   "source": [
    "print(sum(sanlar))"
   ]
  },
  {
   "cell_type": "code",
   "execution_count": 34,
   "id": "18591e5c",
   "metadata": {},
   "outputs": [
    {
     "name": "stdout",
     "output_type": "stream",
     "text": [
      "1078\n"
     ]
    }
   ],
   "source": [
    "ortasidagi_farq = max(sanlar) - min(sanlar)\n",
    "print(ortasidagi_farq)"
   ]
  },
  {
   "cell_type": "code",
   "execution_count": 37,
   "id": "37468f7c",
   "metadata": {},
   "outputs": [
    {
     "name": "stdout",
     "output_type": "stream",
     "text": [
      "540\n",
      "[120, 122, 124, 126, 128, 130, 132, 134, 136, 138, 140, 142, 144, 146, 148, 150, 152, 154, 156, 158, 160, 162, 164, 166, 168, 170, 172, 174, 176, 178, 180, 182, 184, 186, 188, 190, 192, 194, 196, 198, 200, 202, 204, 206, 208, 210, 212, 214, 216, 218, 220, 222, 224, 226, 228, 230, 232, 234, 236, 238, 240, 242, 244, 246, 248, 250, 252, 254, 256, 258, 260, 262, 264, 266, 268, 270, 272, 274, 276, 278, 280, 282, 284, 286, 288, 290, 292, 294, 296, 298, 300, 302, 304, 306, 308, 310, 312, 314, 316, 318, 320, 322, 324, 326, 328, 330, 332, 334, 336, 338, 340, 342, 344, 346, 348, 350, 352, 354, 356, 358, 360, 362, 364, 366, 368, 370, 372, 374, 376, 378, 380, 382, 384, 386, 388, 390, 392, 394, 396, 398, 400, 402, 404, 406, 408, 410, 412, 414, 416, 418, 420, 422, 424, 426, 428, 430, 432, 434, 436, 438, 440, 442, 444, 446, 448, 450, 452, 454, 456, 458, 460, 462, 464, 466, 468, 470, 472, 474, 476, 478, 480, 482, 484, 486, 488, 490, 492, 494, 496, 498, 500, 502, 504, 506, 508, 510, 512, 514, 516, 518, 520, 522, 524, 526, 528, 530, 532, 534, 536, 538, 540, 542, 544, 546, 548, 550, 552, 554, 556, 558, 560, 562, 564, 566, 568, 570, 572, 574, 576, 578, 580, 582, 584, 586, 588, 590, 592, 594, 596, 598, 600, 602, 604, 606, 608, 610, 612, 614, 616, 618, 620, 622, 624, 626, 628, 630, 632, 634, 636, 638, 640, 642, 644, 646, 648, 650, 652, 654, 656, 658, 660, 662, 664, 666, 668, 670, 672, 674, 676, 678, 680, 682, 684, 686, 688, 690, 692, 694, 696, 698, 700, 702, 704, 706, 708, 710, 712, 714, 716, 718, 720, 722, 724, 726, 728, 730, 732, 734, 736, 738, 740, 742, 744, 746, 748, 750, 752, 754, 756, 758, 760, 762, 764, 766, 768, 770, 772, 774, 776, 778, 780, 782, 784, 786, 788, 790, 792, 794, 796, 798, 800, 802, 804, 806, 808, 810, 812, 814, 816, 818, 820, 822, 824, 826, 828, 830, 832, 834, 836, 838, 840, 842, 844, 846, 848, 850, 852, 854, 856, 858, 860, 862, 864, 866, 868, 870, 872, 874, 876, 878, 880, 882, 884, 886, 888, 890, 892, 894, 896, 898, 900, 902, 904, 906, 908, 910, 912, 914, 916, 918, 920, 922, 924, 926, 928, 930, 932, 934, 936, 938, 940, 942, 944, 946, 948, 950, 952, 954, 956, 958, 960, 962, 964, 966, 968, 970, 972, 974, 976, 978, 980, 982, 984, 986, 988, 990, 992, 994, 996, 998, 1000, 1002, 1004, 1006, 1008, 1010, 1012, 1014, 1016, 1018, 1020, 1022, 1024, 1026, 1028, 1030, 1032, 1034, 1036, 1038, 1040, 1042, 1044, 1046, 1048, 1050, 1052, 1054, 1056, 1058, 1060, 1062, 1064, 1066, 1068, 1070, 1072, 1074, 1076, 1078, 1080, 1082, 1084, 1086, 1088, 1090, 1092, 1094, 1096, 1098, 1100, 1102, 1104, 1106, 1108, 1110, 1112, 1114, 1116, 1118, 1120, 1122, 1124, 1126, 1128, 1130, 1132, 1134, 1136, 1138, 1140, 1142, 1144, 1146, 1148, 1150, 1152, 1154, 1156, 1158, 1160, 1162, 1164, 1166, 1168, 1170, 1172, 1174, 1176, 1178, 1180, 1182, 1184, 1186, 1188, 1190, 1192, 1194, 1196, 1198]\n"
     ]
    }
   ],
   "source": [
    "print(len(sanlar))\n",
    "print(sanlar)"
   ]
  },
  {
   "cell_type": "code",
   "execution_count": 35,
   "id": "aca58b5f",
   "metadata": {},
   "outputs": [
    {
     "name": "stdout",
     "output_type": "stream",
     "text": [
      "[120, 122, 124, 126, 128, 130, 132, 134, 136, 138, 140, 142, 144, 146, 148, 150, 152, 154, 156, 158]\n"
     ]
    }
   ],
   "source": [
    "print(sanlar[:20])"
   ]
  },
  {
   "cell_type": "code",
   "execution_count": 40,
   "id": "f00da75c",
   "metadata": {},
   "outputs": [
    {
     "name": "stdout",
     "output_type": "stream",
     "text": [
      "[620, 622, 624, 626, 628, 630, 632, 634, 636, 638, 640, 642, 644, 646, 648, 650, 652, 654, 656, 658]\n"
     ]
    }
   ],
   "source": [
    "print(sanlar[250:270])"
   ]
  },
  {
   "cell_type": "code",
   "execution_count": 44,
   "id": "a9d3e868",
   "metadata": {},
   "outputs": [
    {
     "name": "stdout",
     "output_type": "stream",
     "text": [
      "[1160, 1162, 1164, 1166, 1168, 1170, 1172, 1174, 1176, 1178, 1180, 1182, 1184, 1186, 1188, 1190, 1192, 1194, 1196, 1198]\n"
     ]
    }
   ],
   "source": [
    "print(sanlar[-20:])"
   ]
  },
  {
   "cell_type": "code",
   "execution_count": 42,
   "id": "ac0987dc",
   "metadata": {},
   "outputs": [
    {
     "name": "stdout",
     "output_type": "stream",
     "text": [
      "['shay', 'tuqum', 'manti', 'et', 'palaw']\n",
      "['shay', 'tuqum', 'manti', 'et', 'palaw', 'pelmen', 'gurtuk']\n"
     ]
    }
   ],
   "source": [
    "taomlar = ['shay', 'tuqum', 'manti', 'et', 'palaw']\n",
    "nonushta = taomlar[:]\n",
    "nonushta.append('pelmen')\n",
    "nonushta.append('gurtuk')\n",
    "print(taomlar)\n",
    "print(nonushta)"
   ]
  },
  {
   "cell_type": "code",
   "execution_count": 43,
   "id": "b121dcc2",
   "metadata": {},
   "outputs": [
    {
     "ename": "TypeError",
     "evalue": "'tuple' object does not support item assignment",
     "output_type": "error",
     "traceback": [
      "\u001b[0;31m---------------------------------------------------------------------------\u001b[0m",
      "\u001b[0;31mTypeError\u001b[0m                                 Traceback (most recent call last)",
      "Cell \u001b[0;32mIn[43], line 2\u001b[0m\n\u001b[1;32m      1\u001b[0m taomlar \u001b[38;5;241m=\u001b[39m \u001b[38;5;28mtuple\u001b[39m(taomlar)\n\u001b[0;32m----> 2\u001b[0m \u001b[43mtaomlar\u001b[49m\u001b[43m[\u001b[49m\u001b[38;5;241;43m0\u001b[39;49m\u001b[43m]\u001b[49m \u001b[38;5;241m=\u001b[39m \u001b[38;5;124m'\u001b[39m\u001b[38;5;124mpelmen\u001b[39m\u001b[38;5;124m'\u001b[39m\n",
      "\u001b[0;31mTypeError\u001b[0m: 'tuple' object does not support item assignment"
     ]
    }
   ],
   "source": [
    "taomlar = tuple(taomlar)\n",
    "taomlar[0] = 'pelmen'\n"
   ]
  },
  {
   "cell_type": "code",
   "execution_count": null,
   "id": "1752137d",
   "metadata": {},
   "outputs": [],
   "source": []
  }
 ],
 "metadata": {
  "kernelspec": {
   "display_name": "Python 3",
   "language": "python",
   "name": "python3"
  },
  "language_info": {
   "codemirror_mode": {
    "name": "ipython",
    "version": 3
   },
   "file_extension": ".py",
   "mimetype": "text/x-python",
   "name": "python",
   "nbconvert_exporter": "python",
   "pygments_lexer": "ipython3",
   "version": "3.9.6"
  }
 },
 "nbformat": 4,
 "nbformat_minor": 5
}
