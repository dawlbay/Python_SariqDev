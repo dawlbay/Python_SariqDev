{
 "cells": [
  {
   "cell_type": "code",
   "execution_count": 7,
   "id": "d0b41984",
   "metadata": {},
   "outputs": [
    {
     "name": "stdout",
     "output_type": "stream",
     "text": [
      "['audi', 'bmw', 'suziki', 'toyota']\n"
     ]
    }
   ],
   "source": [
    "car_brands = ['toyota', 'audi', 'bmw', 'suziki']\n",
    "car_brands.sort()\n",
    "print(car_brands)"
   ]
  },
  {
   "cell_type": "code",
   "execution_count": null,
   "id": "599fc36c",
   "metadata": {},
   "outputs": [],
   "source": []
  }
 ],
 "metadata": {
  "kernelspec": {
   "display_name": "Python 3",
   "language": "python",
   "name": "python3"
  },
  "language_info": {
   "codemirror_mode": {
    "name": "ipython",
    "version": 3
   },
   "file_extension": ".py",
   "mimetype": "text/x-python",
   "name": "python",
   "nbconvert_exporter": "python",
   "pygments_lexer": "ipython3",
   "version": "3.9.6"
  }
 },
 "nbformat": 4,
 "nbformat_minor": 5
}
