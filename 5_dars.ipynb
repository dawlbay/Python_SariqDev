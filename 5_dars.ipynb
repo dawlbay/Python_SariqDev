{
 "cells": [
  {
   "cell_type": "code",
   "execution_count": 5,
   "id": "d29a9522",
   "metadata": {},
   "outputs": [
    {
     "name": "stdout",
     "output_type": "stream",
     "text": [
      "Шымбай\n",
      "Қарақалпақстан\n"
     ]
    }
   ],
   "source": [
    "city = \"Шымбай\"\n",
    "region = \"Қарақалпақстан\"\n",
    "print(city)\n",
    "print(region)"
   ]
  },
  {
   "cell_type": "code",
   "execution_count": null,
   "id": "cb397091",
   "metadata": {},
   "outputs": [
    {
     "name": "stdout",
     "output_type": "stream",
     "text": [
      "Менің атым Тимур\n",
      "ТимурДауылбай\n",
      "Тимур Дауылбай\n",
      "Тимур Дауылбай\n",
      "Менің атым Тимур тегім Дауылбай\n",
      "Менің атым Тимур \tтегім Дауылбай\n"
     ]
    }
   ],
   "source": [
    "first_name = \"Тимур\"\n",
    "second_name = \"Дауылбай\"\n",
    "print(\"Менің атым \" + first_name)\n",
    "print(first_name + second_name)\n",
    "print(first_name + ' ' + second_name)\n",
    "first_and_second_name = f\"{first_name} {second_name}\"\n",
    "print(first_and_second_name)\n",
    "\n",
    "print(f\"Менің атым {first_name} тегім {second_name}\")\n",
    "print(f\"Менің атым {first_name} \\tтегім {second_name}\")"
   ]
  },
  {
   "cell_type": "code",
   "execution_count": 14,
   "id": "a71d2d60",
   "metadata": {},
   "outputs": [
    {
     "name": "stdout",
     "output_type": "stream",
     "text": [
      "ТИМУР ДАУЫЛБАЙ\n"
     ]
    }
   ],
   "source": [
    "print(first_and_second_name.upper())"
   ]
  },
  {
   "cell_type": "code",
   "execution_count": 15,
   "id": "7723178c",
   "metadata": {},
   "outputs": [
    {
     "name": "stdout",
     "output_type": "stream",
     "text": [
      "тимур дауылбай\n"
     ]
    }
   ],
   "source": [
    "print(first_and_second_name.lower())"
   ]
  },
  {
   "cell_type": "code",
   "execution_count": 17,
   "id": "c54fd29c",
   "metadata": {},
   "outputs": [
    {
     "name": "stdout",
     "output_type": "stream",
     "text": [
      "James Bond\n"
     ]
    }
   ],
   "source": [
    "name = \"james bond\"\n",
    "print(name.title())"
   ]
  },
  {
   "cell_type": "code",
   "execution_count": 18,
   "id": "d046e7cb",
   "metadata": {},
   "outputs": [
    {
     "name": "stdout",
     "output_type": "stream",
     "text": [
      "James bond\n"
     ]
    }
   ],
   "source": [
    "print(name.capitalize())"
   ]
  },
  {
   "cell_type": "code",
   "execution_count": 19,
   "id": "620cea11",
   "metadata": {},
   "outputs": [
    {
     "name": "stdout",
     "output_type": "stream",
     "text": [
      "TIMUR\n"
     ]
    }
   ],
   "source": [
    "print(\"timur\".upper())"
   ]
  },
  {
   "cell_type": "code",
   "execution_count": 20,
   "id": "bb62f32c",
   "metadata": {},
   "outputs": [
    {
     "name": "stdout",
     "output_type": "stream",
     "text": [
      "timur\n"
     ]
    }
   ],
   "source": [
    "print(\"Timur\".lower())"
   ]
  },
  {
   "cell_type": "code",
   "execution_count": 28,
   "id": "232e116e",
   "metadata": {},
   "outputs": [
    {
     "name": "stdout",
     "output_type": "stream",
     "text": [
      "       Apple       \n",
      "Apple       \n",
      "       Apple\n",
      "Apple\n"
     ]
    }
   ],
   "source": [
    "fruit = \"       Apple       \"\n",
    "print(fruit)\n",
    "\n",
    "print(fruit.lstrip())\n",
    "print(fruit.rstrip())\n",
    "print(fruit.strip())"
   ]
  },
  {
   "cell_type": "code",
   "execution_count": 33,
   "id": "ebe9437e",
   "metadata": {},
   "outputs": [
    {
     "name": "stdout",
     "output_type": "stream",
     "text": [
      "Welcome, Timur\n",
      "Welcome, Timur\n"
     ]
    }
   ],
   "source": [
    "# input()\n",
    "first_name = input(\"What is your first name: \")\n",
    "print(\"Welcome,\", first_name.title())\n",
    "print(\"Welcome, \" + first_name.capitalize())"
   ]
  },
  {
   "cell_type": "code",
   "execution_count": 35,
   "id": "6c7b5dad",
   "metadata": {},
   "outputs": [
    {
     "name": "stdout",
     "output_type": "stream",
     "text": [
      "Bog'bon kochasi, Sog'bon mahallasi, Bodomzor tumani, Samarqand viloyati\n"
     ]
    }
   ],
   "source": [
    "kocha = \"Bog'bon\"\n",
    "mahalla = \"Sog'bon\"\n",
    "tuman = \"Bodomzor\"\n",
    "viloyat = \"Samarqand\"\n",
    "print(f\"{kocha} kochasi, {mahalla} mahallasi, {tuman} tumani, {viloyat} viloyati\")"
   ]
  },
  {
   "cell_type": "code",
   "execution_count": 39,
   "id": "ecd2244e",
   "metadata": {},
   "outputs": [
    {
     "name": "stdout",
     "output_type": "stream",
     "text": [
      "Siz Qaraqalpaqstan viloyating shimbay tumaning Tazgara mahallasining QAZAQ kochasida turasiz\n"
     ]
    }
   ],
   "source": [
    "kocha = input(\"Kocha: \")\n",
    "mahalla = input(\"Mahalla: \")\n",
    "tuman = input(\"Tuman: \")\n",
    "viloyat = input(\"Viloyat: \")\n",
    "manzil = f\"Siz {viloyat.title()} viloyating {tuman.lower()} tumaning {mahalla.capitalize()} mahallasining {kocha.upper()} kochasida turasiz\"\n",
    "print(manzil)"
   ]
  },
  {
   "cell_type": "code",
   "execution_count": null,
   "id": "c3e1c203",
   "metadata": {},
   "outputs": [],
   "source": []
  }
 ],
 "metadata": {
  "kernelspec": {
   "display_name": "Python 3",
   "language": "python",
   "name": "python3"
  },
  "language_info": {
   "codemirror_mode": {
    "name": "ipython",
    "version": 3
   },
   "file_extension": ".py",
   "mimetype": "text/x-python",
   "name": "python",
   "nbconvert_exporter": "python",
   "pygments_lexer": "ipython3",
   "version": "3.9.6"
  }
 },
 "nbformat": 4,
 "nbformat_minor": 5
}
