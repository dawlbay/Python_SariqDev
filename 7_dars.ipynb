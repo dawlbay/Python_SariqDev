{
 "cells": [
  {
   "cell_type": "code",
   "execution_count": 3,
   "id": "1203c335",
   "metadata": {},
   "outputs": [
    {
     "name": "stdout",
     "output_type": "stream",
     "text": [
      "Birinshi miyme  Alma\n",
      "Ekinshi miyme  ALMUR\n"
     ]
    }
   ],
   "source": [
    "miyweler = ['alma', 'almur', 'anar', 'erik']\n",
    "print(\"Birinshi miyme \", miyweler[0].title())\n",
    "print(\"Ekinshi miyme \", miyweler[1].upper())"
   ]
  },
  {
   "cell_type": "code",
   "execution_count": 6,
   "id": "4cf2e398",
   "metadata": {},
   "outputs": [
    {
     "name": "stdout",
     "output_type": "stream",
     "text": [
      "4200\n",
      "2200\n"
     ]
    }
   ],
   "source": [
    "bagalar = [1200, 3000, 4500, 1000]\n",
    "print(bagalar[0] + bagalar[1])\n",
    "print(bagalar[0] + bagalar[-1])\n"
   ]
  },
  {
   "cell_type": "code",
   "execution_count": 7,
   "id": "eee685bf",
   "metadata": {},
   "outputs": [
    {
     "name": "stdout",
     "output_type": "stream",
     "text": [
      "Honda\n"
     ]
    }
   ],
   "source": [
    "car_brands = ['Toyota', 'GM', 'Volvo', 'BMW', 'Porch', 'VW', 'Suziki', 'Honda']\n",
    "print(car_brands[-1])"
   ]
  },
  {
   "cell_type": "code",
   "execution_count": 11,
   "id": "4d084525",
   "metadata": {},
   "outputs": [
    {
     "name": "stdout",
     "output_type": "stream",
     "text": [
      "[2, 5, 10, 20, 50, 100, 250]\n"
     ]
    }
   ],
   "source": [
    "prices = [1, 5, 10, 20, 50, 100, 200]\n",
    "prices[0] = 2 # 1 value changed to 2\n",
    "prices[-1] = prices[-1]+50 # Add 50 to last value\n",
    "print(prices)"
   ]
  },
  {
   "cell_type": "code",
   "execution_count": 24,
   "id": "7759a694",
   "metadata": {},
   "outputs": [
    {
     "name": "stdout",
     "output_type": "stream",
     "text": [
      "['QP', 'QZ', 'QN']\n"
     ]
    }
   ],
   "source": [
    "# append\n",
    "villages = []\n",
    "villages.append('QP')\n",
    "villages.append('QZ')\n",
    "villages.append('QN')\n",
    "print(villages)"
   ]
  },
  {
   "cell_type": "code",
   "execution_count": 25,
   "id": "41e5cbc5",
   "metadata": {},
   "outputs": [
    {
     "name": "stdout",
     "output_type": "stream",
     "text": [
      "['QZ', 'QP', 'QZ', 'QN']\n"
     ]
    }
   ],
   "source": [
    "villages.insert(0, \"QZ\")\n",
    "print(villages)"
   ]
  },
  {
   "cell_type": "code",
   "execution_count": 27,
   "id": "bdb6185c",
   "metadata": {},
   "outputs": [
    {
     "name": "stdout",
     "output_type": "stream",
     "text": [
      "['QZ', 'QN']\n"
     ]
    }
   ],
   "source": [
    "del villages[1]\n",
    "print(villages)"
   ]
  },
  {
   "cell_type": "code",
   "execution_count": 1,
   "id": "dae47870",
   "metadata": {},
   "outputs": [
    {
     "name": "stdout",
     "output_type": "stream",
     "text": [
      "['James', 'Bond']\n"
     ]
    }
   ],
   "source": [
    "names = ['James', 'Doe', 'Bond']\n",
    "names.remove('Doe')\n",
    "print(names)"
   ]
  },
  {
   "cell_type": "code",
   "execution_count": 4,
   "id": "2f607854",
   "metadata": {},
   "outputs": [
    {
     "name": "stdout",
     "output_type": "stream",
     "text": [
      "Men kartoshka sotip oldim.\n",
      "Sotip olinmagan mahsulotlar ['nan', 'may', 'piyaz']\n"
     ]
    }
   ],
   "source": [
    "bozorlik = ['nan', 'may', 'kartoshka', 'piyaz']\n",
    "mahsulot = bozorlik.pop(2)\n",
    "print(\"Men\", mahsulot, \"sotip oldim.\")\n",
    "print(\"Sotip olinmagan mahsulotlar\", bozorlik)"
   ]
  },
  {
   "cell_type": "code",
   "execution_count": 5,
   "id": "53a1245c",
   "metadata": {},
   "outputs": [
    {
     "name": "stdout",
     "output_type": "stream",
     "text": [
      "Salom Ahmet, bugun choyxona bormi?\n",
      "Raha, choyxona boramizmi?\n",
      "Mehmet, choyxona boramizmi?\n"
     ]
    }
   ],
   "source": [
    "atlar = ['ahmet', 'raha', 'mehmet']\n",
    "print(f\"Salom {atlar[0].title()}, bugun choyxona bormi?\")\n",
    "print(f\"{atlar[1].title()}, choyxona boramizmi?\")\n",
    "print(f\"{atlar[2].title()}, choyxona boramizmi?\")"
   ]
  },
  {
   "cell_type": "code",
   "execution_count": 6,
   "id": "c8374a8f",
   "metadata": {},
   "outputs": [
    {
     "name": "stdout",
     "output_type": "stream",
     "text": [
      "1.0\n",
      "(-28.49222179711345-13.407421870098759j)\n"
     ]
    }
   ],
   "source": [
    "sonlar = [1.0, 0, -3, 3.14]\n",
    "birinshi = sonlar[0] + sonlar[1]\n",
    "ikkinshi = sonlar[2] ** sonlar[3]\n",
    "print(birinshi)\n",
    "print(ikkinshi)"
   ]
  },
  {
   "cell_type": "code",
   "execution_count": 7,
   "id": "de115f28",
   "metadata": {},
   "outputs": [
    {
     "name": "stdout",
     "output_type": "stream",
     "text": [
      "Men tarixiy shaxslardan Abai Qunanbai bilan, zamonaviy shaxslardan esa Warren Buffet bilan suhbat qilishni istar edim.\n"
     ]
    }
   ],
   "source": [
    "died = ['Amir Timur', 'Abai Qunanbai', 'Chingizxan']\n",
    "alive = ['Warren Buffet', 'D.J.Trump']\n",
    "\n",
    "print(f\"Men tarixiy shaxslardan {died[1]} bilan, zamonaviy shaxslardan esa {alive[0]} bilan suhbat qilishni istar edim.\")"
   ]
  },
  {
   "cell_type": "code",
   "execution_count": 12,
   "id": "81017f05",
   "metadata": {},
   "outputs": [
    {
     "name": "stdout",
     "output_type": "stream",
     "text": [
      "['Tursinbek', 'Atabek', 'Qosibay', 'Mamanbiy', 'Uliq', 'Atay', 'Norik']\n"
     ]
    }
   ],
   "source": [
    "doslar = []\n",
    "doslar.append('Tursinbek')\n",
    "doslar.append('Atabek')\n",
    "doslar.append('Qosibay')\n",
    "doslar.append('Mamanbiy')\n",
    "doslar.append('Uliq')\n",
    "doslar.append('Atay')\n",
    "doslar.append('Norik')\n",
    "print(doslar)"
   ]
  },
  {
   "cell_type": "code",
   "execution_count": 13,
   "id": "d126346e",
   "metadata": {},
   "outputs": [
    {
     "name": "stdout",
     "output_type": "stream",
     "text": [
      "['Tursinbek', 'Atabek', 'Qosibay', 'Mamanbiy', 'Uliq', 'Atay']\n"
     ]
    }
   ],
   "source": [
    "doslar.remove('Norik')\n",
    "print(doslar)"
   ]
  },
  {
   "cell_type": "code",
   "execution_count": 14,
   "id": "17a617a8",
   "metadata": {},
   "outputs": [
    {
     "name": "stdout",
     "output_type": "stream",
     "text": [
      "Tursinbek\n"
     ]
    }
   ],
   "source": [
    "qonaqlar = doslar.pop(0)\n",
    "\n",
    "print(qonaqlar)"
   ]
  },
  {
   "cell_type": "code",
   "execution_count": null,
   "id": "383f55e4",
   "metadata": {},
   "outputs": [],
   "source": []
  }
 ],
 "metadata": {
  "kernelspec": {
   "display_name": "Python 3",
   "language": "python",
   "name": "python3"
  },
  "language_info": {
   "codemirror_mode": {
    "name": "ipython",
    "version": 3
   },
   "file_extension": ".py",
   "mimetype": "text/x-python",
   "name": "python",
   "nbconvert_exporter": "python",
   "pygments_lexer": "ipython3",
   "version": "3.9.6"
  }
 },
 "nbformat": 4,
 "nbformat_minor": 5
}
