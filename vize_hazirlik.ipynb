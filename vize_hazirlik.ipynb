{
 "cells": [
  {
   "cell_type": "code",
   "execution_count": 1,
   "id": "e48302ed",
   "metadata": {},
   "outputs": [
    {
     "name": "stdout",
     "output_type": "stream",
     "text": [
      "Merhaba\n"
     ]
    }
   ],
   "source": [
    "# Yorum\n",
    "print(\"Merhaba\")"
   ]
  },
  {
   "cell_type": "code",
   "execution_count": 2,
   "id": "f0f719b9",
   "metadata": {},
   "outputs": [
    {
     "name": "stdout",
     "output_type": "stream",
     "text": [
      "Erdal\n",
      "KAYA\n",
      "30\n"
     ]
    }
   ],
   "source": [
    "adi, soyadi, yasi = 'Erdal', 'KAYA', 30\n",
    "print(adi)\n",
    "print(soyadi)\n",
    "print(yasi)"
   ]
  },
  {
   "cell_type": "code",
   "execution_count": 3,
   "id": "724fb26a",
   "metadata": {},
   "outputs": [
    {
     "name": "stdout",
     "output_type": "stream",
     "text": [
      "Erdal\n",
      "KAYA\n",
      "30\n"
     ]
    }
   ],
   "source": [
    "adi = 'Erdal'; soyadi = 'KAYA'; yasi = 30\n",
    "print(adi)\n",
    "print(soyadi)\n",
    "print(yasi)"
   ]
  },
  {
   "cell_type": "code",
   "execution_count": 6,
   "id": "73043f57",
   "metadata": {},
   "outputs": [
    {
     "data": {
      "text/plain": [
       "['False',\n",
       " 'None',\n",
       " 'True',\n",
       " '__peg_parser__',\n",
       " 'and',\n",
       " 'as',\n",
       " 'assert',\n",
       " 'async',\n",
       " 'await',\n",
       " 'break',\n",
       " 'class',\n",
       " 'continue',\n",
       " 'def',\n",
       " 'del',\n",
       " 'elif',\n",
       " 'else',\n",
       " 'except',\n",
       " 'finally',\n",
       " 'for',\n",
       " 'from',\n",
       " 'global',\n",
       " 'if',\n",
       " 'import',\n",
       " 'in',\n",
       " 'is',\n",
       " 'lambda',\n",
       " 'nonlocal',\n",
       " 'not',\n",
       " 'or',\n",
       " 'pass',\n",
       " 'raise',\n",
       " 'return',\n",
       " 'try',\n",
       " 'while',\n",
       " 'with',\n",
       " 'yield']"
      ]
     },
     "execution_count": 6,
     "metadata": {},
     "output_type": "execute_result"
    }
   ],
   "source": [
    "import keyword\n",
    "keyword.kwlist"
   ]
  },
  {
   "cell_type": "code",
   "execution_count": 7,
   "id": "43a42b0f",
   "metadata": {},
   "outputs": [
    {
     "name": "stdout",
     "output_type": "stream",
     "text": [
      "<class 'float'>\n"
     ]
    }
   ],
   "source": [
    "a = 1.1\n",
    "print(type(a))"
   ]
  },
  {
   "cell_type": "code",
   "execution_count": 8,
   "id": "1ddab743",
   "metadata": {},
   "outputs": [
    {
     "name": "stdout",
     "output_type": "stream",
     "text": [
      "<class 'str'>\n"
     ]
    }
   ],
   "source": [
    "mesaj = input(\"Mesajiniz: \")\n",
    "print(type(mesaj))"
   ]
  },
  {
   "cell_type": "code",
   "execution_count": 9,
   "id": "a31d1eae",
   "metadata": {},
   "outputs": [
    {
     "name": "stdout",
     "output_type": "stream",
     "text": [
      "1\n"
     ]
    }
   ],
   "source": [
    "print(5//3)"
   ]
  },
  {
   "cell_type": "code",
   "execution_count": 10,
   "id": "405820fb",
   "metadata": {},
   "outputs": [
    {
     "name": "stdout",
     "output_type": "stream",
     "text": [
      "2\n"
     ]
    }
   ],
   "source": [
    "print(5%3)"
   ]
  },
  {
   "cell_type": "code",
   "execution_count": 13,
   "id": "bd472bf7",
   "metadata": {},
   "outputs": [
    {
     "name": "stdout",
     "output_type": "stream",
     "text": [
      "2\n"
     ]
    }
   ],
   "source": [
    "a = 5\n",
    "a %= 3\n",
    "print(a)"
   ]
  },
  {
   "cell_type": "code",
   "execution_count": 14,
   "id": "b455741f",
   "metadata": {},
   "outputs": [
    {
     "name": "stdout",
     "output_type": "stream",
     "text": [
      "True\n"
     ]
    }
   ],
   "source": [
    "sayi = 5\n",
    "print(sayi<6 or sayi<10)"
   ]
  },
  {
   "cell_type": "code",
   "execution_count": 16,
   "id": "0b2f452b",
   "metadata": {},
   "outputs": [
    {
     "name": "stdout",
     "output_type": "stream",
     "text": [
      "True\n"
     ]
    }
   ],
   "source": [
    "adi = 'user'\n",
    "print(adi=='user' or adi=='admin')"
   ]
  },
  {
   "cell_type": "code",
   "execution_count": 17,
   "id": "5812a160",
   "metadata": {},
   "outputs": [
    {
     "name": "stdout",
     "output_type": "stream",
     "text": [
      "False\n"
     ]
    }
   ],
   "source": [
    "bolum = 'btbs'\n",
    "print(bolum=='ybs' or bolum=='mat')"
   ]
  },
  {
   "cell_type": "code",
   "execution_count": 22,
   "id": "56fb82fe",
   "metadata": {},
   "outputs": [
    {
     "name": "stdout",
     "output_type": "stream",
     "text": [
      "True\n"
     ]
    }
   ],
   "source": [
    "puan = 55\n",
    "print(puan >= 50 and puan <= 60)"
   ]
  },
  {
   "cell_type": "code",
   "execution_count": 24,
   "id": "82e00df5",
   "metadata": {},
   "outputs": [
    {
     "name": "stdout",
     "output_type": "stream",
     "text": [
      "True\n"
     ]
    }
   ],
   "source": [
    "print(not(puan < 40))"
   ]
  },
  {
   "cell_type": "code",
   "execution_count": 26,
   "id": "4af78cab",
   "metadata": {},
   "outputs": [
    {
     "name": "stdout",
     "output_type": "stream",
     "text": [
      "16\n"
     ]
    }
   ],
   "source": [
    "print((2**3)*2)"
   ]
  },
  {
   "cell_type": "code",
   "execution_count": 28,
   "id": "c2a25873",
   "metadata": {},
   "outputs": [
    {
     "name": "stdout",
     "output_type": "stream",
     "text": [
      " Hahahahaha \n"
     ]
    }
   ],
   "source": [
    "print(\"\"\" Hahahahaha \"\"\")"
   ]
  },
  {
   "cell_type": "code",
   "execution_count": 29,
   "id": "6a0cd294",
   "metadata": {},
   "outputs": [
    {
     "name": "stdout",
     "output_type": "stream",
     "text": [
      "Merhaba ben \"Python\" kullaniyorum.\n"
     ]
    }
   ],
   "source": [
    "print('Merhaba ben \"Python\" kullaniyorum.')"
   ]
  },
  {
   "cell_type": "code",
   "execution_count": 30,
   "id": "e6c14824",
   "metadata": {},
   "outputs": [
    {
     "name": "stdout",
     "output_type": "stream",
     "text": [
      "Merhaba ben \"Python\" kullaniyorum.\n"
     ]
    }
   ],
   "source": [
    "print(\"Merhaba ben \\\"Python\\\" kullaniyorum.\")"
   ]
  },
  {
   "cell_type": "code",
   "execution_count": 32,
   "id": "3d8538b8",
   "metadata": {},
   "outputs": [
    {
     "name": "stdout",
     "output_type": "stream",
     "text": [
      "satir 1\n",
      "satir 2\n",
      "satir 3\n"
     ]
    }
   ],
   "source": [
    "print(\"satir 1\\nsatir 2\\nsatir 3\")"
   ]
  },
  {
   "cell_type": "code",
   "execution_count": 34,
   "id": "7263361b",
   "metadata": {},
   "outputs": [
    {
     "name": "stdout",
     "output_type": "stream",
     "text": [
      "satir 1\tsatir 2\tsatir 3\n"
     ]
    }
   ],
   "source": [
    "print(\"satir 1\\tsatir 2\\tsatir 3\")"
   ]
  },
  {
   "cell_type": "code",
   "execution_count": 35,
   "id": "c56466fa",
   "metadata": {},
   "outputs": [
    {
     "name": "stdout",
     "output_type": "stream",
     "text": [
      "Merhaba."
     ]
    }
   ],
   "source": [
    "print(\"Merhaba\", end='.')"
   ]
  },
  {
   "cell_type": "code",
   "execution_count": 36,
   "id": "91108984",
   "metadata": {},
   "outputs": [
    {
     "name": "stdout",
     "output_type": "stream",
     "text": [
      "Merhaba|"
     ]
    }
   ],
   "source": [
    "print(\"Merhaba\", end='|')"
   ]
  },
  {
   "cell_type": "code",
   "execution_count": 38,
   "id": "2c4ca07b",
   "metadata": {},
   "outputs": [
    {
     "name": "stdout",
     "output_type": "stream",
     "text": [
      "keshe-bugun-erten\n"
     ]
    }
   ],
   "source": [
    "print('keshe', 'bugun', 'erten', sep='-')"
   ]
  },
  {
   "cell_type": "code",
   "execution_count": 39,
   "id": "4e7b81d7",
   "metadata": {},
   "outputs": [
    {
     "name": "stdout",
     "output_type": "stream",
     "text": [
      "1 + 2 = 3\n"
     ]
    }
   ],
   "source": [
    "print(\"{} + {} = {}\".format(1, 2, 3))"
   ]
  },
  {
   "cell_type": "code",
   "execution_count": 41,
   "id": "68bfa1fd",
   "metadata": {},
   "outputs": [
    {
     "name": "stdout",
     "output_type": "stream",
     "text": [
      "Merhaba erdal\n"
     ]
    }
   ],
   "source": [
    "isim = input(\"Adiniz ne? \")\n",
    "print(\"Merhaba\", isim)"
   ]
  },
  {
   "cell_type": "code",
   "execution_count": 42,
   "id": "32f96213",
   "metadata": {},
   "outputs": [
    {
     "name": "stdout",
     "output_type": "stream",
     "text": [
      "5\n"
     ]
    }
   ],
   "source": [
    "first_number = int(input(\"First number: \"))\n",
    "second_number = int(input(\"Second number: \"))\n",
    "print(first_number + second_number)"
   ]
  },
  {
   "cell_type": "code",
   "execution_count": 43,
   "id": "0a268fe1",
   "metadata": {},
   "outputs": [
    {
     "name": "stdout",
     "output_type": "stream",
     "text": [
      "True\n"
     ]
    }
   ],
   "source": [
    "user_name = input(\"Enter username: \")\n",
    "user_password = input(\"Enter password: \")\n",
    "print(user_name == 'admin' and user_password == '1234')"
   ]
  },
  {
   "cell_type": "code",
   "execution_count": 47,
   "id": "cfc7b91d",
   "metadata": {},
   "outputs": [
    {
     "name": "stdout",
     "output_type": "stream",
     "text": [
      "Sart saglandi\n",
      "If blogu icindesin\n",
      "2.sart saglandi\n",
      "2.if blogu icindesin\n"
     ]
    }
   ],
   "source": [
    "yasi = 17\n",
    "adi = 'tahsin'\n",
    "if (yasi <= 18):\n",
    "    print(\"Sart saglandi\")\n",
    "    print(\"If blogu icindesin\")\n",
    "if (adi == 'tahsin'):\n",
    "    print(\"2.sart saglandi\")\n",
    "    print(\"2.if blogu icindesin\")"
   ]
  },
  {
   "cell_type": "code",
   "execution_count": 49,
   "id": "ad1d5e7c",
   "metadata": {},
   "outputs": [
    {
     "name": "stdout",
     "output_type": "stream",
     "text": [
      "Oy kullanamazsin\n",
      "program bitti\n"
     ]
    }
   ],
   "source": [
    "yasi = int(input(\"Yasiniz: \"))\n",
    "if (yasi >= 18):\n",
    "    print(\"Oy kullanabilirsin\")\n",
    "else:\n",
    "    print(\"Oy kullanamazsin\")\n",
    "print(\"program bitti\")"
   ]
  },
  {
   "cell_type": "code",
   "execution_count": 50,
   "id": "9751a511",
   "metadata": {},
   "outputs": [
    {
     "name": "stdout",
     "output_type": "stream",
     "text": [
      "Giris basarili\n"
     ]
    }
   ],
   "source": [
    "user_name = input(\"Username\")\n",
    "user_password = input(\"Password: \")\n",
    "if (user_name == 'admin' and user_password == '1234'):\n",
    "    print(\"Giris basarili\")"
   ]
  },
  {
   "cell_type": "code",
   "execution_count": 55,
   "id": "0bee00ba",
   "metadata": {},
   "outputs": [
    {
     "name": "stdout",
     "output_type": "stream",
     "text": [
      "Username true\n",
      "Giris basarili\n"
     ]
    }
   ],
   "source": [
    "user_name = input(\"Username\")\n",
    "user_password = input(\"Password: \")\n",
    "if (user_name == 'admin'):\n",
    "    print(\"Username true\")\n",
    "    if (user_password == '1234'):\n",
    "        print(\"Giris basarili\")\n",
    "    else:\n",
    "        print(\"Password wrong!\")\n",
    "else:\n",
    "    print(\"Username wrong!\")"
   ]
  },
  {
   "cell_type": "code",
   "execution_count": 60,
   "id": "1b1f0b1b",
   "metadata": {},
   "outputs": [
    {
     "name": "stdout",
     "output_type": "stream",
     "text": [
      "kaldi\n"
     ]
    }
   ],
   "source": [
    "vize_puani = int(input(\"Vize puani (0-100): \"))\n",
    "if (vize_puani > 100):\n",
    "    print(\"Girdiginiz deger yanlis!\")\n",
    "elif (vize_puani < 0):\n",
    "    print(\"Girdiginiz deger yanlis!\")\n",
    "elif (vize_puani >= 85):\n",
    "    print(\"pek iyi\")\n",
    "elif (vize_puani >= 70):\n",
    "    print(\"iyi\")\n",
    "elif (vize_puani >= 55):\n",
    "    print(\"orta\")\n",
    "elif (vize_puani >= 45):\n",
    "    print(\"gecer\")\n",
    "else:\n",
    "    print(\"kaldi\")"
   ]
  },
  {
   "cell_type": "code",
   "execution_count": 62,
   "id": "e5a1e32b",
   "metadata": {},
   "outputs": [
    {
     "name": "stdout",
     "output_type": "stream",
     "text": [
      "<class 'list'>\n",
      "<class 'list'>\n"
     ]
    }
   ],
   "source": [
    "# liste olusturmak\n",
    "lista = list()\n",
    "liste = [1, 2, 3]\n",
    "print(type(liste))\n",
    "print(type(lista))"
   ]
  },
  {
   "cell_type": "code",
   "execution_count": 63,
   "id": "944fcee8",
   "metadata": {},
   "outputs": [
    {
     "name": "stdout",
     "output_type": "stream",
     "text": [
      "[1, 'ali', 0.3]\n"
     ]
    }
   ],
   "source": [
    "liste = [1, 'ali', 0.3]\n",
    "print(liste)"
   ]
  },
  {
   "cell_type": "code",
   "execution_count": 66,
   "id": "280f630c",
   "metadata": {},
   "outputs": [
    {
     "name": "stdout",
     "output_type": "stream",
     "text": [
      "ayvaerik\n"
     ]
    }
   ],
   "source": [
    "meyve = 'erik'\n",
    "meyve = 'ayva' + meyve[0:]\n",
    "print(meyve)"
   ]
  },
  {
   "cell_type": "code",
   "execution_count": 67,
   "id": "bb355d67",
   "metadata": {},
   "outputs": [
    {
     "name": "stdout",
     "output_type": "stream",
     "text": [
      "birinci\n",
      "dortuncu\n"
     ]
    }
   ],
   "source": [
    "liste = ['birinci', 'ikinci', 'ucuncu', 'dortuncu']\n",
    "print(liste[0])\n",
    "print(liste[3])"
   ]
  },
  {
   "cell_type": "code",
   "execution_count": 68,
   "id": "ff59f5f9",
   "metadata": {},
   "outputs": [
    {
     "name": "stdout",
     "output_type": "stream",
     "text": [
      "Bu deger listede var\n"
     ]
    }
   ],
   "source": [
    "esya = ['ayna', 'TV', 'perde']\n",
    "veri = input(\"veri: \")\n",
    "if (veri in esya):\n",
    "    print(\"Bu deger listede var\")\n",
    "else:\n",
    "    print(\"Bu deger listede yok\")"
   ]
  },
  {
   "cell_type": "code",
   "execution_count": 70,
   "id": "501e4192",
   "metadata": {},
   "outputs": [
    {
     "name": "stdout",
     "output_type": "stream",
     "text": [
      "[2, 3]\n",
      "[1, 2, 3, 4, 5, 6, 7, 8, 9]\n"
     ]
    }
   ],
   "source": [
    "sayilar = [1, 2, 3, 4, 5, 6, 7, 8, 9]\n",
    "oge = sayilar[1:3]\n",
    "print(oge)\n",
    "print(sayilar)"
   ]
  },
  {
   "cell_type": "code",
   "execution_count": 75,
   "id": "6ba6cbfb",
   "metadata": {},
   "outputs": [
    {
     "name": "stdout",
     "output_type": "stream",
     "text": [
      "1\n",
      "4\n",
      "[1, 2, 3]\n",
      "[2, 3, 4, 5, 6, 7]\n",
      "[4, 5, 6, 7, 8, 9]\n",
      "[1, 3, 5, 7, 9]\n",
      "-----\n",
      "[9, 8, 7, 6, 5, 4, 3, 2, 1]\n"
     ]
    }
   ],
   "source": [
    "print(sayilar[0])\n",
    "print(sayilar[3])\n",
    "print(sayilar[:3])\n",
    "print(sayilar[1:7])\n",
    "print(sayilar[3:])\n",
    "print(sayilar[::2])\n",
    "\n",
    "print(\"-----\")\n",
    "print(sayilar[::-1])"
   ]
  },
  {
   "cell_type": "code",
   "execution_count": 84,
   "id": "567a34df",
   "metadata": {},
   "outputs": [
    {
     "name": "stdout",
     "output_type": "stream",
     "text": [
      "1\n",
      "erten\n",
      "bugun\n",
      "keshe\n",
      "['erten', 'bugun', 'keshe']\n"
     ]
    }
   ],
   "source": [
    "kun = ['keshe', 'bugun', 'erten']\n",
    "print(kun.count('bugun'))\n",
    "print(kun[-1])\n",
    "print(kun[-2])\n",
    "print(kun[-3])\n",
    "print(kun[::-1])\n"
   ]
  },
  {
   "cell_type": "code",
   "execution_count": 85,
   "id": "77c96ed2",
   "metadata": {},
   "outputs": [
    {
     "name": "stdout",
     "output_type": "stream",
     "text": [
      "3\n"
     ]
    }
   ],
   "source": [
    "print(len(kun))"
   ]
  },
  {
   "cell_type": "code",
   "execution_count": null,
   "id": "5e9b64ae",
   "metadata": {},
   "outputs": [],
   "source": []
  }
 ],
 "metadata": {
  "kernelspec": {
   "display_name": "Python 3",
   "language": "python",
   "name": "python3"
  },
  "language_info": {
   "codemirror_mode": {
    "name": "ipython",
    "version": 3
   },
   "file_extension": ".py",
   "mimetype": "text/x-python",
   "name": "python",
   "nbconvert_exporter": "python",
   "pygments_lexer": "ipython3",
   "version": "3.9.6"
  }
 },
 "nbformat": 4,
 "nbformat_minor": 5
}
