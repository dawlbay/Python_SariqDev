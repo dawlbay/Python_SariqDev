{
 "cells": [
  {
   "cell_type": "code",
   "execution_count": 1,
   "id": "e6ac366e",
   "metadata": {},
   "outputs": [
    {
     "name": "stdout",
     "output_type": "stream",
     "text": [
      "-10\n"
     ]
    }
   ],
   "source": [
    "a = 20\n",
    "b = -30\n",
    "c = a + b\n",
    "print(c)"
   ]
  },
  {
   "cell_type": "code",
   "execution_count": 4,
   "id": "d5ad298c",
   "metadata": {},
   "outputs": [
    {
     "name": "stdout",
     "output_type": "stream",
     "text": [
      "400\n"
     ]
    }
   ],
   "source": [
    "kvadrattin_tarepi = 20\n",
    "kvadratting_beti = kvadrattin_tarepi ** 2\n",
    "print(kvadratting_beti)"
   ]
  },
  {
   "cell_type": "code",
   "execution_count": 5,
   "id": "44746aab",
   "metadata": {},
   "outputs": [
    {
     "name": "stdout",
     "output_type": "stream",
     "text": [
      "2.0\n"
     ]
    }
   ],
   "source": [
    "a = 10\n",
    "b = 5\n",
    "print(a/b)"
   ]
  },
  {
   "cell_type": "code",
   "execution_count": 6,
   "id": "e7008459",
   "metadata": {},
   "outputs": [
    {
     "name": "stdout",
     "output_type": "stream",
     "text": [
      "5.0\n",
      "-1.0\n",
      "0.6666666666666666\n",
      "6.0\n",
      "8.0\n",
      "0.0\n",
      "2.0\n",
      "8.0\n"
     ]
    }
   ],
   "source": [
    "a = 2\n",
    "b = 3.0\n",
    "print(a+b)\n",
    "print(a-b)\n",
    "print(a/b)\n",
    "print(a*b)\n",
    "print(a**b)\n",
    "print(a//b)\n",
    "print(a%b)\n",
    "print(2 + (a*b))"
   ]
  },
  {
   "cell_type": "code",
   "execution_count": 7,
   "id": "24d7a2d7",
   "metadata": {},
   "outputs": [
    {
     "name": "stdout",
     "output_type": "stream",
     "text": [
      "Yer sayorrasida 7594000000 ga yaqin odam yashaydi.\n"
     ]
    }
   ],
   "source": [
    "aholi_soni = 7_594_000_000\n",
    "print(\"Yer sayorrasida\", aholi_soni, \"ga yaqin odam yashaydi.\")"
   ]
  },
  {
   "cell_type": "code",
   "execution_count": 9,
   "id": "c244b5e1",
   "metadata": {},
   "outputs": [
    {
     "name": "stdout",
     "output_type": "stream",
     "text": [
      "3.1415\n"
     ]
    }
   ],
   "source": [
    "PI = 3.1415\n",
    "print(PI)"
   ]
  },
  {
   "cell_type": "code",
   "execution_count": null,
   "id": "dc8a7406",
   "metadata": {},
   "outputs": [
    {
     "data": {
      "text/plain": [
       "0"
      ]
     },
     "execution_count": 11,
     "metadata": {},
     "output_type": "execute_result"
    }
   ],
   "source": [
    "a, b, c = 10, -2, 0"
   ]
  },
  {
   "cell_type": "code",
   "execution_count": null,
   "id": "4e2925d1",
   "metadata": {},
   "outputs": [],
   "source": []
  }
 ],
 "metadata": {
  "kernelspec": {
   "display_name": "Python 3",
   "language": "python",
   "name": "python3"
  },
  "language_info": {
   "codemirror_mode": {
    "name": "ipython",
    "version": 3
   },
   "file_extension": ".py",
   "mimetype": "text/x-python",
   "name": "python",
   "nbconvert_exporter": "python",
   "pygments_lexer": "ipython3",
   "version": "3.9.6"
  }
 },
 "nbformat": 4,
 "nbformat_minor": 5
}
