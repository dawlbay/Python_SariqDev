{
 "cells": [
  {
   "cell_type": "code",
   "execution_count": 1,
   "id": "e6ac366e",
   "metadata": {},
   "outputs": [
    {
     "name": "stdout",
     "output_type": "stream",
     "text": [
      "-10\n"
     ]
    }
   ],
   "source": [
    "a = 20\n",
    "b = -30\n",
    "c = a + b\n",
    "print(c)"
   ]
  },
  {
   "cell_type": "code",
   "execution_count": 4,
   "id": "d5ad298c",
   "metadata": {},
   "outputs": [
    {
     "name": "stdout",
     "output_type": "stream",
     "text": [
      "400\n"
     ]
    }
   ],
   "source": [
    "kvadrattin_tarepi = 20\n",
    "kvadratting_beti = kvadrattin_tarepi ** 2\n",
    "print(kvadratting_beti)"
   ]
  },
  {
   "cell_type": "code",
   "execution_count": 5,
   "id": "44746aab",
   "metadata": {},
   "outputs": [
    {
     "name": "stdout",
     "output_type": "stream",
     "text": [
      "2.0\n"
     ]
    }
   ],
   "source": [
    "a = 10\n",
    "b = 5\n",
    "print(a/b)"
   ]
  },
  {
   "cell_type": "code",
   "execution_count": 6,
   "id": "e7008459",
   "metadata": {},
   "outputs": [
    {
     "name": "stdout",
     "output_type": "stream",
     "text": [
      "5.0\n",
      "-1.0\n",
      "0.6666666666666666\n",
      "6.0\n",
      "8.0\n",
      "0.0\n",
      "2.0\n",
      "8.0\n"
     ]
    }
   ],
   "source": [
    "a = 2\n",
    "b = 3.0\n",
    "print(a+b)\n",
    "print(a-b)\n",
    "print(a/b)\n",
    "print(a*b)\n",
    "print(a**b)\n",
    "print(a//b)\n",
    "print(a%b)\n",
    "print(2 + (a*b))"
   ]
  },
  {
   "cell_type": "code",
   "execution_count": 7,
   "id": "24d7a2d7",
   "metadata": {},
   "outputs": [
    {
     "name": "stdout",
     "output_type": "stream",
     "text": [
      "Yer sayorrasida 7594000000 ga yaqin odam yashaydi.\n"
     ]
    }
   ],
   "source": [
    "aholi_soni = 7_594_000_000\n",
    "print(\"Yer sayorrasida\", aholi_soni, \"ga yaqin odam yashaydi.\")"
   ]
  },
  {
   "cell_type": "code",
   "execution_count": 9,
   "id": "c244b5e1",
   "metadata": {},
   "outputs": [
    {
     "name": "stdout",
     "output_type": "stream",
     "text": [
      "3.1415\n"
     ]
    }
   ],
   "source": [
    "PI = 3.1415\n",
    "print(PI)"
   ]
  },
  {
   "cell_type": "code",
   "execution_count": null,
   "id": "dc8a7406",
   "metadata": {},
   "outputs": [
    {
     "data": {
      "text/plain": [
       "0"
      ]
     },
     "execution_count": 11,
     "metadata": {},
     "output_type": "execute_result"
    }
   ],
   "source": [
    "a, b, c = 10, -2, 0"
   ]
  },
  {
   "cell_type": "code",
   "execution_count": 13,
   "id": "4e2925d1",
   "metadata": {},
   "outputs": [
    {
     "name": "stdout",
     "output_type": "stream",
     "text": [
      "Jobir 20 yoshida\n"
     ]
    }
   ],
   "source": [
    "ism = \"Jobir\"\n",
    "yosh = 20\n",
    "xabar = ism + ' ' + str(yosh) + ' yoshida'\n",
    "print(xabar)"
   ]
  },
  {
   "cell_type": "code",
   "execution_count": 16,
   "id": "f85d30ed",
   "metadata": {},
   "outputs": [
    {
     "name": "stdout",
     "output_type": "stream",
     "text": [
      "Siz 57 yoshda ekansiz\n"
     ]
    }
   ],
   "source": [
    "#1 foydalanuvchining tug'ilgan yilini so'raymiz\n",
    "t_yil = int(input(\"Tug'ilgan yilingizni kiriting: \"))\n",
    "\n",
    "#2 foydalanuvchi yoshini xisoblaymiz\n",
    "yosh = 2025 - t_yil # \n",
    "\n",
    "#3 foydalanuvchi yoshini konsolga chiqaramiz\n",
    "print(\"Siz \" + str(yosh) + \" yoshda ekansiz\")"
   ]
  },
  {
   "cell_type": "code",
   "execution_count": 17,
   "id": "81d5ea56",
   "metadata": {},
   "outputs": [
    {
     "name": "stdout",
     "output_type": "stream",
     "text": [
      "Siz 24 yaşındasınız.\n"
     ]
    }
   ],
   "source": [
    "# 1 Kullanıcıdan doğum yılını almak.\n",
    "dogum_yili = int(input(\"Doğum yılınız: \"))\n",
    "\n",
    "# 2 Doğum yılını hesaplamak\n",
    "yasi = 2025 - dogum_yili\n",
    "\n",
    "# 3 Kullanıcıya kaç yaşında olduğunu göstermek\n",
    "print(\"Siz \" + str(yasi) + \" yaşındasınız.\")"
   ]
  },
  {
   "cell_type": "code",
   "execution_count": 19,
   "id": "2a21a5ed",
   "metadata": {},
   "outputs": [
    {
     "name": "stdout",
     "output_type": "stream",
     "text": [
      "45 sonining kvadrati 2025 ga teng\n",
      "45 sonining kubi 91125 ga teng\n"
     ]
    }
   ],
   "source": [
    "son = int(input(\"Istagan bir son yozing: \"))\n",
    "kvadrat = son ** 2\n",
    "kub = son ** 3\n",
    "print(f\"{son} sonining kvadrati {kvadrat} ga teng\")\n",
    "print(f\"{son} sonining kubi {kub} ga teng\")"
   ]
  },
  {
   "cell_type": "code",
   "execution_count": 20,
   "id": "6a1a5e3a",
   "metadata": {},
   "outputs": [
    {
     "name": "stdout",
     "output_type": "stream",
     "text": [
      "Sizning tug'lgan yilingiz 2004\n"
     ]
    }
   ],
   "source": [
    "yoshi = int(input(\"Yoshingiz nechida: \"))\n",
    "tugilgan_yili = 2025 - yoshi\n",
    "print(f\"Sizning tug'lgan yilingiz {tugilgan_yili}\")"
   ]
  },
  {
   "cell_type": "code",
   "execution_count": null,
   "id": "ad47be1e",
   "metadata": {},
   "outputs": [
    {
     "name": "stdout",
     "output_type": "stream",
     "text": [
      "25 + 12 = 37\n",
      "25 - 12 = 13\n",
      "25 * 12 = 300\n",
      "25 / 12 = 2.0833333333333335\n"
     ]
    }
   ],
   "source": [
    "first_number = float(input(\"Enter first number: \"))\n",
    "second_number = float(input(\"Enter second number: \"))\n",
    "print(f\"{first_number} + {second_number} =\", first_number + second_number)\n",
    "print(f\"{first_number} - {second_number} =\", first_number - second_number)\n",
    "print(f\"{first_number} * {second_number} =\", first_number * second_number)\n",
    "print(f\"{first_number} / {second_number} =\", first_number / second_number)"
   ]
  },
  {
   "cell_type": "code",
   "execution_count": null,
   "id": "5e0001df",
   "metadata": {},
   "outputs": [],
   "source": []
  }
 ],
 "metadata": {
  "kernelspec": {
   "display_name": "Python 3",
   "language": "python",
   "name": "python3"
  },
  "language_info": {
   "codemirror_mode": {
    "name": "ipython",
    "version": 3
   },
   "file_extension": ".py",
   "mimetype": "text/x-python",
   "name": "python",
   "nbconvert_exporter": "python",
   "pygments_lexer": "ipython3",
   "version": "3.9.6"
  }
 },
 "nbformat": 4,
 "nbformat_minor": 5
}
