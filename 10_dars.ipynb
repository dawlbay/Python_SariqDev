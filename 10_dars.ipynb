{
 "cells": [
  {
   "cell_type": "code",
   "execution_count": 1,
   "id": "36b7263d",
   "metadata": {},
   "outputs": [
    {
     "name": "stdout",
     "output_type": "stream",
     "text": [
      "Audi\n",
      "BMW\n",
      "Volvo\n",
      "Kia\n",
      "Hyundai\n"
     ]
    }
   ],
   "source": [
    "avtolar = ['audi', 'bmw', 'volvo', 'kia', 'hyundai']\n",
    "\n",
    "for avto in avtolar:\n",
    "    if avto == 'bmw':\n",
    "        print(avto.upper())\n",
    "    else:\n",
    "        print(avto.title())"
   ]
  },
  {
   "cell_type": "code",
   "execution_count": 2,
   "id": "704201bb",
   "metadata": {},
   "outputs": [
    {
     "data": {
      "text/plain": [
       "True"
      ]
     },
     "execution_count": 2,
     "metadata": {},
     "output_type": "execute_result"
    }
   ],
   "source": [
    "ism = 'Ali'\n",
    "ism.lower() == 'ali'"
   ]
  },
  {
   "cell_type": "code",
   "execution_count": 5,
   "id": "5d60d789",
   "metadata": {},
   "outputs": [
    {
     "name": "stdout",
     "output_type": "stream",
     "text": [
      "Salom, Ali\n"
     ]
    }
   ],
   "source": [
    "ism = input(\"Ismingiz nima?\\n\")\n",
    "if ism.lower() != 'ali':\n",
    "    print(f\"Uzr, {ism.title()} biz Alini kutyapmiz.\")\n",
    "else:\n",
    "    print(\"Salom, Ali\")"
   ]
  },
  {
   "cell_type": "code",
   "execution_count": null,
   "id": "8cf1519b",
   "metadata": {},
   "outputs": [],
   "source": []
  }
 ],
 "metadata": {
  "kernelspec": {
   "display_name": "Python 3",
   "language": "python",
   "name": "python3"
  },
  "language_info": {
   "codemirror_mode": {
    "name": "ipython",
    "version": 3
   },
   "file_extension": ".py",
   "mimetype": "text/x-python",
   "name": "python",
   "nbconvert_exporter": "python",
   "pygments_lexer": "ipython3",
   "version": "3.9.6"
  }
 },
 "nbformat": 4,
 "nbformat_minor": 5
}
