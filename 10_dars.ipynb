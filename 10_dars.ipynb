{
 "cells": [
  {
   "cell_type": "code",
   "execution_count": 1,
   "id": "36b7263d",
   "metadata": {},
   "outputs": [
    {
     "name": "stdout",
     "output_type": "stream",
     "text": [
      "Audi\n",
      "BMW\n",
      "Volvo\n",
      "Kia\n",
      "Hyundai\n"
     ]
    }
   ],
   "source": [
    "avtolar = ['audi', 'bmw', 'volvo', 'kia', 'hyundai']\n",
    "\n",
    "for avto in avtolar:\n",
    "    if avto == 'bmw':\n",
    "        print(avto.upper())\n",
    "    else:\n",
    "        print(avto.title())"
   ]
  },
  {
   "cell_type": "code",
   "execution_count": 2,
   "id": "704201bb",
   "metadata": {},
   "outputs": [
    {
     "data": {
      "text/plain": [
       "True"
      ]
     },
     "execution_count": 2,
     "metadata": {},
     "output_type": "execute_result"
    }
   ],
   "source": [
    "ism = 'Ali'\n",
    "ism.lower() == 'ali'"
   ]
  },
  {
   "cell_type": "code",
   "execution_count": 5,
   "id": "5d60d789",
   "metadata": {},
   "outputs": [
    {
     "name": "stdout",
     "output_type": "stream",
     "text": [
      "Salom, Ali\n"
     ]
    }
   ],
   "source": [
    "ism = input(\"Ismingiz nima?\\n\")\n",
    "if ism.lower() != 'ali':\n",
    "    print(f\"Uzr, {ism.title()} biz Alini kutyapmiz.\")\n",
    "else:\n",
    "    print(\"Salom, Ali\")"
   ]
  },
  {
   "cell_type": "code",
   "execution_count": 7,
   "id": "8cf1519b",
   "metadata": {},
   "outputs": [],
   "source": [
    "javob = float(input(\"12 * 6 nechida teng? \"))\n",
    "if javob != 72:\n",
    "    print(\"Xato javob!\")"
   ]
  },
  {
   "cell_type": "code",
   "execution_count": 11,
   "id": "07879a89",
   "metadata": {},
   "outputs": [
    {
     "name": "stdout",
     "output_type": "stream",
     "text": [
      "Xush kelibsiz!\n"
     ]
    }
   ],
   "source": [
    "yosh = int(input(\"Yoshingiz nechida? \"))\n",
    "if yosh >= 18:\n",
    "    print(\"Xush kelibsiz!\")\n",
    "else:\n",
    "    print(\"Kirish mumkin emas!\")"
   ]
  },
  {
   "cell_type": "code",
   "execution_count": null,
   "id": "f0de349a",
   "metadata": {},
   "outputs": [
    {
     "name": "stdout",
     "output_type": "stream",
     "text": [
      "Login 5 haftan kop bolishi kerak\n"
     ]
    }
   ],
   "source": [
    "login = input(\"Yangi login tanlang: \")\n",
    "if len(login) <= 5: # login uzunligi\n",
    "    print(\"Login 5 haftan kop bolishi kerak\")"
   ]
  },
  {
   "cell_type": "code",
   "execution_count": 15,
   "id": "e65dcb1e",
   "metadata": {},
   "outputs": [
    {
     "name": "stdout",
     "output_type": "stream",
     "text": [
      "Yoshingiz 5 ekan\n",
      "Kirish mumkin emas!\n"
     ]
    }
   ],
   "source": [
    "yil = int(input(\"Tugilgan yilingiz? \"))\n",
    "if 2025 - yil <= 18:\n",
    "    print(f\"Yoshingiz {2025-yil} ekan\")\n",
    "    print(\"Kirish mumkin emas!\")\n",
    "else:\n",
    "    print(\"Xush kelibsiz\")"
   ]
  },
  {
   "cell_type": "code",
   "execution_count": 16,
   "id": "30699e4c",
   "metadata": {},
   "outputs": [
    {
     "name": "stdout",
     "output_type": "stream",
     "text": [
      "Siz COVID-19 risk guruhida ekansiz\n"
     ]
    }
   ],
   "source": [
    "yosh = int(input(\"Yoshingiz nechida!\"))\n",
    "if yosh < 65: print(\"Siz COVID-19 risk guruhida ekansiz\")"
   ]
  },
  {
   "cell_type": "code",
   "execution_count": 17,
   "id": "24f7220c",
   "metadata": {},
   "outputs": [
    {
     "name": "stdout",
     "output_type": "stream",
     "text": [
      "x < y\n"
     ]
    }
   ],
   "source": [
    "x, y = 25, 50\n",
    "print(\"x > y\") if x > y else print(\"x < y\")"
   ]
  },
  {
   "cell_type": "code",
   "execution_count": 18,
   "id": "91cdb7f5",
   "metadata": {},
   "outputs": [
    {
     "name": "stdout",
     "output_type": "stream",
     "text": [
      "Toyota\n",
      "Mazda\n",
      "Hyundai\n",
      "GM\n",
      "Kia\n"
     ]
    }
   ],
   "source": [
    "cars = ['toyota', 'mazda', 'hyundai', 'gm', 'kia']\n",
    "for car in cars:\n",
    "    if car == 'gm':\n",
    "        print(car.upper())\n",
    "    else:\n",
    "        print(car.title())"
   ]
  },
  {
   "cell_type": "code",
   "execution_count": 20,
   "id": "2d542bdb",
   "metadata": {},
   "outputs": [
    {
     "name": "stdout",
     "output_type": "stream",
     "text": [
      "Toyota\n",
      "Mazda\n",
      "Hyundai\n",
      "GM\n",
      "Kia\n"
     ]
    }
   ],
   "source": [
    "for car in cars:\n",
    "    if car != 'gm':\n",
    "        print(car.title())\n",
    "    else:\n",
    "        print(car.upper())"
   ]
  },
  {
   "cell_type": "code",
   "execution_count": null,
   "id": "63d4e1de",
   "metadata": {},
   "outputs": [
    {
     "name": "stdout",
     "output_type": "stream",
     "text": [
      "Welcome, adam\n"
     ]
    }
   ],
   "source": [
    "login = input(\"What is your name: \")\n",
    "if login.lower() == 'admin':\n",
    "    print(\"Welcome, Admin. Would you see users.\")\n",
    "else:\n",
    "    print(f\"Welcome, {login}\")"
   ]
  },
  {
   "cell_type": "code",
   "execution_count": 23,
   "id": "19865d60",
   "metadata": {},
   "outputs": [
    {
     "name": "stdout",
     "output_type": "stream",
     "text": [
      "Equal :D\n"
     ]
    }
   ],
   "source": [
    "a = int(input(\"Enter a number: \"))\n",
    "b = int(input(\"Enter b number: \"))\n",
    "if a == b:\n",
    "    print(\"Equal :D\")"
   ]
  },
  {
   "cell_type": "code",
   "execution_count": 24,
   "id": "9c5f884a",
   "metadata": {},
   "outputs": [
    {
     "name": "stdout",
     "output_type": "stream",
     "text": [
      "-1 is lower than 0\n"
     ]
    }
   ],
   "source": [
    "number = int(input(\"Enter a number: \"))\n",
    "if number > 0:\n",
    "    print(f\"{number} is biger than 0\")\n",
    "else:\n",
    "    print(f\"{number} is lower than 0\")"
   ]
  },
  {
   "cell_type": "code",
   "execution_count": 26,
   "id": "76cdd5a8",
   "metadata": {},
   "outputs": [
    {
     "name": "stdout",
     "output_type": "stream",
     "text": [
      "Musbat son kiriting\n"
     ]
    }
   ],
   "source": [
    "number = int(input(\"Enter a number: \"))\n",
    "if number > 0:\n",
    "    print(f\"{number**2}\")\n",
    "else:\n",
    "    print(\"Musbat son kiriting\")"
   ]
  },
  {
   "cell_type": "code",
   "execution_count": 3,
   "id": "cd51bc9c",
   "metadata": {},
   "outputs": [
    {
     "name": "stdout",
     "output_type": "stream",
     "text": [
      "5.0\n",
      "500.0\n"
     ]
    }
   ],
   "source": [
    "san = float(input(\"Aqshaniz qansha? \"))\n",
    "prosent = float(input(\"Neshe prosent kobeyejaq? \"))\n",
    "if prosent < 10:\n",
    "    print(prosent)\n",
    "san = san * prosent\n",
    "print(san)"
   ]
  },
  {
   "cell_type": "code",
   "execution_count": null,
   "id": "308effb4",
   "metadata": {},
   "outputs": [],
   "source": []
  }
 ],
 "metadata": {
  "kernelspec": {
   "display_name": "Python 3",
   "language": "python",
   "name": "python3"
  },
  "language_info": {
   "codemirror_mode": {
    "name": "ipython",
    "version": 3
   },
   "file_extension": ".py",
   "mimetype": "text/x-python",
   "name": "python",
   "nbconvert_exporter": "python",
   "pygments_lexer": "ipython3",
   "version": "3.9.6"
  }
 },
 "nbformat": 4,
 "nbformat_minor": 5
}
