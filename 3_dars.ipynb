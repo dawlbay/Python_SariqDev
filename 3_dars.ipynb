{
 "cells": [
  {
   "cell_type": "code",
   "execution_count": 5,
   "id": "ceffc232",
   "metadata": {},
   "outputs": [
    {
     "name": "stdout",
     "output_type": "stream",
     "text": [
      "I bought a laptop. Its brand is \"Apple\"\n"
     ]
    }
   ],
   "source": [
    "print('I bought a laptop. Its brand is \"Apple\"')"
   ]
  },
  {
   "cell_type": "code",
   "execution_count": 6,
   "id": "300f3969",
   "metadata": {},
   "outputs": [
    {
     "name": "stdout",
     "output_type": "stream",
     "text": [
      "I bought a laptop. \n",
      "Its brand is \"Apple\"\n"
     ]
    }
   ],
   "source": [
    "print('I bought a laptop. \\nIts brand is \"Apple\"')"
   ]
  },
  {
   "cell_type": "code",
   "execution_count": 8,
   "id": "7fa5f2ee",
   "metadata": {},
   "outputs": [
    {
     "name": "stdout",
     "output_type": "stream",
     "text": [
      "I bought a laptop. Its brand is \"Apple\"\n"
     ]
    }
   ],
   "source": [
    "print(\"I bought a laptop. Its brand is \\\"Apple\\\"\")"
   ]
  },
  {
   "cell_type": "code",
   "execution_count": 9,
   "id": "958d68e6",
   "metadata": {},
   "outputs": [
    {
     "name": "stdout",
     "output_type": "stream",
     "text": [
      "14\n"
     ]
    }
   ],
   "source": [
    "print(4+2*5)"
   ]
  },
  {
   "cell_type": "code",
   "execution_count": 10,
   "id": "0f8774fb",
   "metadata": {},
   "outputs": [
    {
     "name": "stdout",
     "output_type": "stream",
     "text": [
      "3.8\n"
     ]
    }
   ],
   "source": [
    "print(19/5)"
   ]
  },
  {
   "cell_type": "code",
   "execution_count": 11,
   "id": "f3ca8c5f",
   "metadata": {},
   "outputs": [
    {
     "name": "stdout",
     "output_type": "stream",
     "text": [
      "4.0\n"
     ]
    }
   ],
   "source": [
    "print(16/4)"
   ]
  },
  {
   "cell_type": "code",
   "execution_count": 12,
   "id": "a439becf",
   "metadata": {},
   "outputs": [
    {
     "name": "stdout",
     "output_type": "stream",
     "text": [
      "4\n"
     ]
    }
   ],
   "source": [
    "print(16//4)"
   ]
  },
  {
   "cell_type": "code",
   "execution_count": 13,
   "id": "1ba3d49f",
   "metadata": {},
   "outputs": [
    {
     "name": "stdout",
     "output_type": "stream",
     "text": [
      "6\n"
     ]
    }
   ],
   "source": [
    "print(2*3)"
   ]
  },
  {
   "cell_type": "code",
   "execution_count": 14,
   "id": "9a9e5e2a",
   "metadata": {},
   "outputs": [
    {
     "name": "stdout",
     "output_type": "stream",
     "text": [
      "8\n"
     ]
    }
   ],
   "source": [
    "print(2**3)"
   ]
  },
  {
   "cell_type": "code",
   "execution_count": 15,
   "id": "80e83943",
   "metadata": {},
   "outputs": [
    {
     "name": "stdout",
     "output_type": "stream",
     "text": [
      "1.2\n"
     ]
    }
   ],
   "source": [
    "print(6/5)"
   ]
  },
  {
   "cell_type": "code",
   "execution_count": 16,
   "id": "a09ce9c0",
   "metadata": {},
   "outputs": [
    {
     "name": "stdout",
     "output_type": "stream",
     "text": [
      "1\n"
     ]
    }
   ],
   "source": [
    "print(6%5)"
   ]
  },
  {
   "cell_type": "code",
   "execution_count": 17,
   "id": "7b4d3f38",
   "metadata": {},
   "outputs": [
    {
     "data": {
      "text/plain": [
       "81"
      ]
     },
     "execution_count": 17,
     "metadata": {},
     "output_type": "execute_result"
    }
   ],
   "source": [
    "9**2"
   ]
  },
  {
   "cell_type": "code",
   "execution_count": 18,
   "id": "546e401d",
   "metadata": {},
   "outputs": [
    {
     "data": {
      "text/plain": [
       "9"
      ]
     },
     "execution_count": 18,
     "metadata": {},
     "output_type": "execute_result"
    }
   ],
   "source": [
    "3*3"
   ]
  },
  {
   "cell_type": "code",
   "execution_count": 19,
   "id": "75af0c90",
   "metadata": {},
   "outputs": [],
   "source": [
    "# Comment"
   ]
  },
  {
   "cell_type": "code",
   "execution_count": 20,
   "id": "3389630f",
   "metadata": {},
   "outputs": [],
   "source": [
    "# Practice"
   ]
  },
  {
   "cell_type": "code",
   "execution_count": null,
   "id": "7673be2c",
   "metadata": {},
   "outputs": [
    {
     "name": "stdout",
     "output_type": "stream",
     "text": [
      "\"Nexia\", \"Tico\", 'Damas' ko'rganlar qilar havas\n",
      "\"Nexia\", \"Tico\", 'Damas' ko'rganlar qilar havas\n"
     ]
    }
   ],
   "source": [
    "# \"Nexia\", \"Tiko\", 'Damas' ko'rganlar qilar havas\n",
    "print(\"\"\"\"Nexia\", \"Tico\", 'Damas' ko'rganlar qilar havas\"\"\")\n",
    "print(\"\\\"Nexia\\\", \\\"Tico\\\", 'Damas' ko'rganlar qilar havas\")"
   ]
  },
  {
   "cell_type": "code",
   "execution_count": null,
   "id": "fe68a9e2",
   "metadata": {},
   "outputs": [
    {
     "name": "stdout",
     "output_type": "stream",
     "text": [
      "5 ning 4-darajasi: 625\n"
     ]
    }
   ],
   "source": [
    "# 5 ning 4-darajasini toping\n",
    "print(\"5 ning 4-darajasi:\", 5**4)"
   ]
  },
  {
   "cell_type": "code",
   "execution_count": null,
   "id": "6b0e5a36",
   "metadata": {},
   "outputs": [
    {
     "name": "stdout",
     "output_type": "stream",
     "text": [
      "22 ni 4 ga bolsak: 5.5\n"
     ]
    }
   ],
   "source": [
    "# 22 ni 4 ga bo'lganda qancha qoldiq qoladi?\n",
    "print(\"22 ni 4 ga bolsak:\", 22/4)"
   ]
  },
  {
   "cell_type": "code",
   "execution_count": 32,
   "id": "8fe56634",
   "metadata": {},
   "outputs": [
    {
     "name": "stdout",
     "output_type": "stream",
     "text": [
      "Tomonlari 125 ga teng kvadratning yuzi: 15625\n"
     ]
    }
   ],
   "source": [
    "# Tomonlari 125 ga teng kvadratning yuzi va perimetrini toping\n",
    "print(\"Tomonlari 125 ga teng kvadratning yuzi:\", 125*125)"
   ]
  },
  {
   "cell_type": "code",
   "execution_count": 33,
   "id": "1e6c0149",
   "metadata": {},
   "outputs": [],
   "source": [
    "# Diametri 12 ga teng bo'lgan doiraning yuzini toping? (π = 3.14 deb oling)\n"
   ]
  },
  {
   "cell_type": "code",
   "execution_count": 35,
   "id": "18485cf0",
   "metadata": {},
   "outputs": [
    {
     "name": "stdout",
     "output_type": "stream",
     "text": [
      "Hello World!\n"
     ]
    }
   ],
   "source": [
    "hi = \"Hello World!\"\n",
    "print(hi)"
   ]
  },
  {
   "cell_type": "code",
   "execution_count": 36,
   "id": "d3c0c5ff",
   "metadata": {},
   "outputs": [
    {
     "name": "stdout",
     "output_type": "stream",
     "text": [
      "Timur Python uyrenip basladi.\n"
     ]
    }
   ],
   "source": [
    "news = \"Timur Python uyrenip basladi.\"\n",
    "print(news)"
   ]
  },
  {
   "cell_type": "code",
   "execution_count": 37,
   "id": "b20f43c4",
   "metadata": {},
   "outputs": [
    {
     "name": "stdout",
     "output_type": "stream",
     "text": [
      "Radius 5 ga teng aylananing yuzi = 15.700000000000001\n"
     ]
    }
   ],
   "source": [
    "radius = 5\n",
    "pi = 3.14\n",
    "aylana_yuzi = pi * radius\n",
    "print(\"Radius\", radius, \"ga teng aylananing yuzi =\", aylana_yuzi)"
   ]
  },
  {
   "cell_type": "code",
   "execution_count": null,
   "id": "7d34fdd2",
   "metadata": {},
   "outputs": [],
   "source": []
  }
 ],
 "metadata": {
  "kernelspec": {
   "display_name": "Python 3",
   "language": "python",
   "name": "python3"
  },
  "language_info": {
   "codemirror_mode": {
    "name": "ipython",
    "version": 3
   },
   "file_extension": ".py",
   "mimetype": "text/x-python",
   "name": "python",
   "nbconvert_exporter": "python",
   "pygments_lexer": "ipython3",
   "version": "3.9.6"
  }
 },
 "nbformat": 4,
 "nbformat_minor": 5
}
