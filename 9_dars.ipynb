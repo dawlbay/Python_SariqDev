{
 "cells": [
  {
   "cell_type": "code",
   "execution_count": 2,
   "id": "cfdcb814",
   "metadata": {},
   "outputs": [
    {
     "name": "stdout",
     "output_type": "stream",
     "text": [
      "ali\n",
      "Hurmatli ali, sizni 20 Dekabr kuni nahorga oshga taklif qilamiz\n",
      "vali\n",
      "Hurmatli vali, sizni 20 Dekabr kuni nahorga oshga taklif qilamiz\n",
      "hasan\n",
      "Hurmatli hasan, sizni 20 Dekabr kuni nahorga oshga taklif qilamiz\n",
      "husan\n",
      "Hurmatli husan, sizni 20 Dekabr kuni nahorga oshga taklif qilamiz\n",
      "olim\n",
      "Hurmatli olim, sizni 20 Dekabr kuni nahorga oshga taklif qilamiz\n",
      "Hurmat bilan, Palonchiyevlar oilasi\n",
      "\n"
     ]
    }
   ],
   "source": [
    "mehmonlar = ['ali', 'vali', 'hasan', 'husan', 'olim']\n",
    "for mehmon in mehmonlar:\n",
    "    print(mehmon)\n",
    "    print(f\"Hurmatli {mehmon}, sizni 20 Dekabr kuni nahorga oshga taklif qilamiz\")\n",
    "print(\"Hurmat bilan, Palonchiyevlar oilasi\\n\")"
   ]
  },
  {
   "cell_type": "code",
   "execution_count": 12,
   "id": "681e377f",
   "metadata": {},
   "outputs": [
    {
     "name": "stdout",
     "output_type": "stream",
     "text": [
      "1 = kvadrati 1ga teng\n",
      "2 = kvadrati 4ga teng\n",
      "3 = kvadrati 9ga teng\n",
      "4 = kvadrati 16ga teng\n",
      "5 = kvadrati 25ga teng\n",
      "6 = kvadrati 36ga teng\n",
      "7 = kvadrati 49ga teng\n",
      "8 = kvadrati 64ga teng\n",
      "9 = kvadrati 81ga teng\n",
      "10 = kvadrati 100ga teng\n"
     ]
    }
   ],
   "source": [
    "sanlar = list(range(1, 11))\n",
    "for san in sanlar:\n",
    "    print(f\"{san} = kvadrati {san**2}ga teng\")"
   ]
  },
  {
   "cell_type": "code",
   "execution_count": 16,
   "id": "3c3eac90",
   "metadata": {},
   "outputs": [
    {
     "name": "stdout",
     "output_type": "stream",
     "text": [
      "[1, 2, 3, 4, 5, 6, 7, 8, 9, 10]\n",
      "[1, 4, 9, 16, 25, 36, 49, 64, 81, 100]\n"
     ]
    }
   ],
   "source": [
    "sanlar = list(range(1, 11))\n",
    "sanlar_kvadrati = []\n",
    "for san in sanlar:\n",
    "    sanlar_kvadrati.append(san**2)\n",
    "\n",
    "print(sanlar)\n",
    "print(sanlar_kvadrati)\n"
   ]
  },
  {
   "cell_type": "code",
   "execution_count": null,
   "id": "a130e226",
   "metadata": {},
   "outputs": [],
   "source": []
  }
 ],
 "metadata": {
  "kernelspec": {
   "display_name": "Python 3",
   "language": "python",
   "name": "python3"
  },
  "language_info": {
   "codemirror_mode": {
    "name": "ipython",
    "version": 3
   },
   "file_extension": ".py",
   "mimetype": "text/x-python",
   "name": "python",
   "nbconvert_exporter": "python",
   "pygments_lexer": "ipython3",
   "version": "3.9.6"
  }
 },
 "nbformat": 4,
 "nbformat_minor": 5
}
