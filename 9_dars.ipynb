{
 "cells": [
  {
   "cell_type": "code",
   "execution_count": 2,
   "id": "cfdcb814",
   "metadata": {},
   "outputs": [
    {
     "name": "stdout",
     "output_type": "stream",
     "text": [
      "ali\n",
      "vali\n",
      "hasan\n",
      "husan\n",
      "olim\n"
     ]
    }
   ],
   "source": [
    "mehmonlar = ['ali', 'vali', 'hasan', 'husan', 'olim']\n",
    "for mehmon in mehmonlar:\n",
    "    print(mehmon)"
   ]
  },
  {
   "cell_type": "code",
   "execution_count": null,
   "id": "681e377f",
   "metadata": {},
   "outputs": [],
   "source": []
  }
 ],
 "metadata": {
  "kernelspec": {
   "display_name": "Python 3",
   "language": "python",
   "name": "python3"
  },
  "language_info": {
   "codemirror_mode": {
    "name": "ipython",
    "version": 3
   },
   "file_extension": ".py",
   "mimetype": "text/x-python",
   "name": "python",
   "nbconvert_exporter": "python",
   "pygments_lexer": "ipython3",
   "version": "3.9.6"
  }
 },
 "nbformat": 4,
 "nbformat_minor": 5
}
