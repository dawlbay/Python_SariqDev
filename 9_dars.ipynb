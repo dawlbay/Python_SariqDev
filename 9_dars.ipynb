{
 "cells": [
  {
   "cell_type": "code",
   "execution_count": 2,
   "id": "cfdcb814",
   "metadata": {},
   "outputs": [
    {
     "name": "stdout",
     "output_type": "stream",
     "text": [
      "ali\n",
      "Hurmatli ali, sizni 20 Dekabr kuni nahorga oshga taklif qilamiz\n",
      "vali\n",
      "Hurmatli vali, sizni 20 Dekabr kuni nahorga oshga taklif qilamiz\n",
      "hasan\n",
      "Hurmatli hasan, sizni 20 Dekabr kuni nahorga oshga taklif qilamiz\n",
      "husan\n",
      "Hurmatli husan, sizni 20 Dekabr kuni nahorga oshga taklif qilamiz\n",
      "olim\n",
      "Hurmatli olim, sizni 20 Dekabr kuni nahorga oshga taklif qilamiz\n",
      "Hurmat bilan, Palonchiyevlar oilasi\n",
      "\n"
     ]
    }
   ],
   "source": [
    "mehmonlar = ['ali', 'vali', 'hasan', 'husan', 'olim']\n",
    "for mehmon in mehmonlar:\n",
    "    print(mehmon)\n",
    "    print(f\"Hurmatli {mehmon}, sizni 20 Dekabr kuni nahorga oshga taklif qilamiz\")\n",
    "print(\"Hurmat bilan, Palonchiyevlar oilasi\\n\")"
   ]
  },
  {
   "cell_type": "code",
   "execution_count": 12,
   "id": "681e377f",
   "metadata": {},
   "outputs": [
    {
     "name": "stdout",
     "output_type": "stream",
     "text": [
      "1 = kvadrati 1ga teng\n",
      "2 = kvadrati 4ga teng\n",
      "3 = kvadrati 9ga teng\n",
      "4 = kvadrati 16ga teng\n",
      "5 = kvadrati 25ga teng\n",
      "6 = kvadrati 36ga teng\n",
      "7 = kvadrati 49ga teng\n",
      "8 = kvadrati 64ga teng\n",
      "9 = kvadrati 81ga teng\n",
      "10 = kvadrati 100ga teng\n"
     ]
    }
   ],
   "source": [
    "sanlar = list(range(1, 11))\n",
    "for san in sanlar:\n",
    "    print(f\"{san} = kvadrati {san**2}ga teng\")"
   ]
  },
  {
   "cell_type": "code",
   "execution_count": 16,
   "id": "3c3eac90",
   "metadata": {},
   "outputs": [
    {
     "name": "stdout",
     "output_type": "stream",
     "text": [
      "[1, 2, 3, 4, 5, 6, 7, 8, 9, 10]\n",
      "[1, 4, 9, 16, 25, 36, 49, 64, 81, 100]\n"
     ]
    }
   ],
   "source": [
    "sanlar = list(range(1, 11))\n",
    "sanlar_kvadrati = []\n",
    "for san in sanlar:\n",
    "    sanlar_kvadrati.append(san**2)\n",
    "\n",
    "print(sanlar)\n",
    "print(sanlar_kvadrati)\n"
   ]
  },
  {
   "cell_type": "code",
   "execution_count": 22,
   "id": "a130e226",
   "metadata": {},
   "outputs": [
    {
     "name": "stdout",
     "output_type": "stream",
     "text": [
      "5 ta en yaqin dostingiz kim?\n",
      "['a', 's', 'd', 'f', '']\n",
      "Kod 5 marta takrorlandi\n"
     ]
    }
   ],
   "source": [
    "doslar = []\n",
    "print(\"5 ta en yaqin dostingiz kim?\")\n",
    "for n in range(5):\n",
    "    doslar.append(input(f\"{n + 1} - dostingizning ismini kiriting: \"))\n",
    "print(doslar)\n",
    "print(f\"Kod {n+1} marta takrorlandi\")"
   ]
  },
  {
   "cell_type": "code",
   "execution_count": 20,
   "id": "ae8f89fb",
   "metadata": {},
   "outputs": [
    {
     "name": "stdout",
     "output_type": "stream",
     "text": [
      "ahmet\n",
      "husan\n",
      "mehmet\n",
      "zuqra\n",
      "jamol\n"
     ]
    }
   ],
   "source": [
    "isimlar = ['ahmet', 'husan', 'mehmet', 'zuqra', 'jamol']\n",
    "for n in isimlar:\n",
    "    print(n)"
   ]
  },
  {
   "cell_type": "code",
   "execution_count": 25,
   "id": "a484941d",
   "metadata": {},
   "outputs": [
    {
     "name": "stdout",
     "output_type": "stream",
     "text": [
      "10 ning kubi 1000 ga teng\n",
      "12 ning kubi 1728 ga teng\n",
      "14 ning kubi 2744 ga teng\n",
      "16 ning kubi 4096 ga teng\n",
      "18 ning kubi 5832 ga teng\n",
      "20 ning kubi 8000 ga teng\n",
      "22 ning kubi 10648 ga teng\n",
      "24 ning kubi 13824 ga teng\n",
      "26 ning kubi 17576 ga teng\n",
      "28 ning kubi 21952 ga teng\n",
      "30 ning kubi 27000 ga teng\n",
      "32 ning kubi 32768 ga teng\n",
      "34 ning kubi 39304 ga teng\n",
      "36 ning kubi 46656 ga teng\n",
      "38 ning kubi 54872 ga teng\n",
      "40 ning kubi 64000 ga teng\n",
      "42 ning kubi 74088 ga teng\n",
      "44 ning kubi 85184 ga teng\n",
      "46 ning kubi 97336 ga teng\n",
      "48 ning kubi 110592 ga teng\n",
      "50 ning kubi 125000 ga teng\n",
      "52 ning kubi 140608 ga teng\n",
      "54 ning kubi 157464 ga teng\n",
      "56 ning kubi 175616 ga teng\n",
      "58 ning kubi 195112 ga teng\n",
      "60 ning kubi 216000 ga teng\n",
      "62 ning kubi 238328 ga teng\n",
      "64 ning kubi 262144 ga teng\n",
      "66 ning kubi 287496 ga teng\n",
      "68 ning kubi 314432 ga teng\n",
      "70 ning kubi 343000 ga teng\n",
      "72 ning kubi 373248 ga teng\n",
      "74 ning kubi 405224 ga teng\n",
      "76 ning kubi 438976 ga teng\n",
      "78 ning kubi 474552 ga teng\n",
      "80 ning kubi 512000 ga teng\n",
      "82 ning kubi 551368 ga teng\n",
      "84 ning kubi 592704 ga teng\n",
      "86 ning kubi 636056 ga teng\n",
      "88 ning kubi 681472 ga teng\n",
      "90 ning kubi 729000 ga teng\n",
      "92 ning kubi 778688 ga teng\n",
      "94 ning kubi 830584 ga teng\n",
      "96 ning kubi 884736 ga teng\n",
      "98 ning kubi 941192 ga teng\n",
      "[10, 12, 14, 16, 18, 20, 22, 24, 26, 28, 30, 32, 34, 36, 38, 40, 42, 44, 46, 48, 50, 52, 54, 56, 58, 60, 62, 64, 66, 68, 70, 72, 74, 76, 78, 80, 82, 84, 86, 88, 90, 92, 94, 96, 98]\n"
     ]
    }
   ],
   "source": [
    "taq_sanlar = list(range(10, 100, 2))\n",
    "for san in taq_sanlar:\n",
    "    print(f\"{san} ning kubi {san**3} ga teng\")\n",
    "print(taq_sanlar)"
   ]
  },
  {
   "cell_type": "code",
   "execution_count": 28,
   "id": "4b1f1480",
   "metadata": {},
   "outputs": [
    {
     "name": "stdout",
     "output_type": "stream",
     "text": [
      "En sevgan 5 ta filimingiz\n",
      "['q', 'w', 'e', 'r', 't']\n",
      "4\n"
     ]
    }
   ],
   "source": [
    "kinolar = []\n",
    "print(\"En sevgan 5 ta filimingiz\")\n",
    "for n in range(5):\n",
    "    kinolar.append(input(f\"{n+1} - film: \"))\n",
    "print(kinolar)\n",
    "print(n)"
   ]
  },
  {
   "cell_type": "code",
   "execution_count": 35,
   "id": "56b6d6f5",
   "metadata": {},
   "outputs": [
    {
     "name": "stdout",
     "output_type": "stream",
     "text": [
      "['q', 'q']\n"
     ]
    }
   ],
   "source": [
    "odam_soni = int(input(\"Bugun nechta odam bilan suhbatlashtingiz? \"))\n",
    "odamlar = []\n",
    "for n in range(odam_soni):\n",
    "    odamlar.append(input(f\"{n+1} - odam kim? \"))\n",
    "print(odamlar)"
   ]
  },
  {
   "cell_type": "code",
   "execution_count": null,
   "id": "eb1d3b05",
   "metadata": {},
   "outputs": [],
   "source": []
  }
 ],
 "metadata": {
  "kernelspec": {
   "display_name": "Python 3",
   "language": "python",
   "name": "python3"
  },
  "language_info": {
   "codemirror_mode": {
    "name": "ipython",
    "version": 3
   },
   "file_extension": ".py",
   "mimetype": "text/x-python",
   "name": "python",
   "nbconvert_exporter": "python",
   "pygments_lexer": "ipython3",
   "version": "3.9.6"
  }
 },
 "nbformat": 4,
 "nbformat_minor": 5
}
